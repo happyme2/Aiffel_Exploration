{
 "cells": [
  {
   "cell_type": "markdown",
   "metadata": {},
   "source": [
    "# 인공지능 작사가 만들기"
   ]
  },
  {
   "cell_type": "code",
   "execution_count": 64,
   "metadata": {},
   "outputs": [],
   "source": [
    "# 데이터 다운 받기"
   ]
  },
  {
   "cell_type": "markdown",
   "metadata": {},
   "source": [
    "## 데이터 읽어오기"
   ]
  },
  {
   "cell_type": "code",
   "execution_count": 20,
   "metadata": {},
   "outputs": [],
   "source": [
    "import numpy as np         # 변환된 문장 데이터(행렬)을 편하게 처리하기 위해\n",
    "import tensorflow as tf    # 대망의 텐서플로우!\n",
    "from sklearn.model_selection import train_test_split\n",
    "\n",
    "import glob  # glob 모듈을 사용하면 파일을 읽어오는 작업을 하기가 아주 용이해요.\n",
    "import os\n",
    "import re  ## 정규표현식을 위한 Regex 지원 모듈 (문장 데이터를 정돈하기 위해) "
   ]
  },
  {
   "cell_type": "code",
   "execution_count": 2,
   "metadata": {},
   "outputs": [
    {
     "name": "stdout",
     "output_type": "stream",
     "text": [
      "데이터 크기: 187088\n",
      "Examples:\n",
      " ['\\ufeffbaby It was all a dream', 'I used to read Word Up magazine', 'Salt n Pepa and Heavy D up in the limousine']\n"
     ]
    }
   ],
   "source": [
    "\n",
    "txt_file_path = os.getenv('HOME')+'/aiffel/lyricist/data/lyrics/*'\n",
    "\n",
    "txt_list = glob.glob(txt_file_path)    #glob를 활용하여 모든 txt파일 읽어오기\n",
    "\n",
    "raw_corpus = []\n",
    "\n",
    "# 여러개의 txt 파일을 모두 읽어서 raw_corpus 에 담습니다.\n",
    "for txt_file in txt_list:\n",
    "    with open(txt_file, \"r\") as f:\n",
    "        raw = f.read().splitlines()\n",
    "        raw_corpus.extend(raw)\n",
    "\n",
    "print(\"데이터 크기:\", len(raw_corpus))\n",
    "print(\"Examples:\\n\", raw_corpus[:3])"
   ]
  },
  {
   "cell_type": "markdown",
   "metadata": {},
   "source": [
    "### 데이터 정제 \n",
    "- 정제함수로 만든 데이터셋 -> 토큰화 진행  \n",
    "  -> end 없애서 입력(소스문장), start없애서 출력정답(타겟문장) 만들기\n",
    "- preprocess_sentence() 함수 이용 \n",
    "- 토큰화 했을 때 토큰의 갯수가 15개 넘어가는 문장은 학습데이터에서 제외"
   ]
  },
  {
   "cell_type": "code",
   "execution_count": 4,
   "metadata": {},
   "outputs": [
    {
     "name": "stdout",
     "output_type": "stream",
     "text": [
      "<start> this is sample sentence . <end>\n"
     ]
    }
   ],
   "source": [
    "import re  ## 정규표현식을 위한 Regex 지원 모듈 (문장 데이터를 정돈하기 위해) \n",
    "def preprocess_sentence(sentence):\n",
    "    sentence = sentence.lower().strip()       # 소문자로 바꾸고 양쪽 공백을 삭제\n",
    "  \n",
    "    # 아래 3단계를 거쳐 sentence는 스페이스 1개를 delimeter로 하는 소문자 단어 시퀀스로 바뀝니다.\n",
    "    sentence = re.sub(r\"([?.!,¿])\", r\" \\1 \", sentence)        # 패턴의 특수문자를 만나면 특수문자 양쪽에 공백을 추가\n",
    "    sentence = re.sub(r'[\" \"]+', \" \", sentence)                  # 공백 패턴을 만나면 스페이스 1개로 치환\n",
    "    sentence = re.sub(r\"[^a-zA-Z?.!,¿]+\", \" \", sentence)  # a-zA-Z?.!,¿ 패턴을 제외한 모든 문자(공백문자까지도)를 스페이스 1개로 치환\n",
    "\n",
    "    sentence = sentence.strip()\n",
    "\n",
    "    sentence = '<start> ' + sentence + ' <end>'      # 이전 스텝에서 본 것처럼 문장 앞뒤로 <start>와 <end>를 단어처럼 붙여 줍니다\n",
    "    \n",
    "    return sentence\n",
    "\n",
    "print(preprocess_sentence(\"This @_is ;;;sample        sentence.\"))   # 이 문장이 어떻게 필터링되는지 확인해 보세요."
   ]
  },
  {
   "cell_type": "code",
   "execution_count": 5,
   "metadata": {},
   "outputs": [
    {
     "data": {
      "text/plain": [
       "['<start> baby it was all a dream <end>',\n",
       " '<start> i used to read word up magazine <end>',\n",
       " '<start> salt n pepa and heavy d up in the limousine <end>',\n",
       " '<start> hangin pictures on my wall <end>',\n",
       " '<start> every saturday rap attack mr magic marley marl <end>',\n",
       " '<start> i let my tape rock til my tape popped <end>',\n",
       " '<start> smokin weed and bambu sippin on private stock <end>',\n",
       " '<start> way back when i had the red and black lumberjack <end>',\n",
       " '<start> with the hat to match <end>',\n",
       " '<start> remember rappin duke duhha duhha <end>']"
      ]
     },
     "execution_count": 5,
     "metadata": {},
     "output_type": "execute_result"
    }
   ],
   "source": [
    "# 정제함수 활용하여 토큰화 진행 후 <end> 없애고 소스문장, <start> 없애고 타겟문장 : 정제 데이터 구축\n",
    "\n",
    "corpus = []\n",
    "\n",
    "for sentence in raw_corpus:\n",
    "    if len(sentence) == 0: continue\n",
    "    if sentence[-1] == \":\": continue\n",
    "        \n",
    "    corpus.append(preprocess_sentence(sentence))\n",
    "        \n",
    "corpus[:10]"
   ]
  },
  {
   "cell_type": "markdown",
   "metadata": {},
   "source": [
    "### 토큰화 - 단어 사전 만들기 위한 문장 쪼개기\n",
    "**tf.keras.preprocessing.text.Tokenizer 패키지**\n",
    "- 정제된 데이터를 토큰화하고, 단어사전dictionary를 만들어 데이터를 숫자로 변환"
   ]
  },
  {
   "cell_type": "code",
   "execution_count": 36,
   "metadata": {},
   "outputs": [
    {
     "name": "stdout",
     "output_type": "stream",
     "text": [
      "[[   2   51   11 ...    0    0    0]\n",
      " [   2    5  291 ...    0    0    0]\n",
      " [   2 3196  489 ...    0    0    0]\n",
      " ...\n",
      " [   2  559   21 ...    0    0    0]\n",
      " [   2  120   34 ...    0    0    0]\n",
      " [   2    5   22 ...    0    0    0]] <keras_preprocessing.text.Tokenizer object at 0x7f1410068f50>\n"
     ]
    }
   ],
   "source": [
    "import tensorflow as tf\n",
    "def tokenize(corpus):\n",
    "    # 텐서플로우에서 제공하는 Tokenizer 패키지를 생성\n",
    "    tokenizer = tf.keras.preprocessing.text.Tokenizer(\n",
    "        num_words=7000,  # 전체 단어의 개수 \n",
    "        filters=' ',    # 별도로 전처리 로직을 추가할 수 있습니다. 이번에는 사용하지 않겠습니다.\n",
    "        oov_token=\"<unk>\"  # out-of-vocabulary, 사전에 없었던 단어는 어떤 토큰으로 대체할지\n",
    "    )\n",
    "    \n",
    "    tokenizer.fit_on_texts(corpus)   # 우리가 구축한 corpus로부터 Tokenizer가 사전을 자동구축하게 됩니다.\n",
    "\n",
    "\n",
    "    # 이후 tokenizer를 활용하여 모델에 입력할 데이터셋을 구축하게 됩니다.\n",
    "    tensor = tokenizer.texts_to_sequences(corpus)   # tokenizer는 구축한 사전으로부터 corpus를 해석해 Tensor로 변환합니다.\n",
    "\n",
    "    # 입력 데이터의 시퀀스 길이를 일정하게 맞추기 위한 padding  메소드를 제공합니다.\n",
    "    # maxlen의 디폴트값은 None입니다. 이 경우 corpus의 가장 긴 문장을 기준으로 시퀀스 길이가 맞춰집니다.\n",
    "    # 토큰화 했을 때 최대 토큰의 갯수가 15개 \n",
    "    tensor = tf.keras.preprocessing.sequence.pad_sequences(tensor, padding='post', maxlen=15)  \n",
    "   \n",
    "    \n",
    "    print(tensor,tokenizer)\n",
    "    return tensor, tokenizer\n",
    "\n",
    "tensor, tokenizer = tokenize(corpus)"
   ]
  },
  {
   "cell_type": "code",
   "execution_count": 37,
   "metadata": {},
   "outputs": [
    {
     "name": "stdout",
     "output_type": "stream",
     "text": [
      "[[   2   51   11   57   24    9  339    3    0    0]\n",
      " [   2    5  291   10  629  475   29 2142    3    0]\n",
      " [   2 3196  489    1    8 1150  127   29   14    6]]\n"
     ]
    }
   ],
   "source": [
    "print(tensor[:3, :10])"
   ]
  },
  {
   "cell_type": "code",
   "execution_count": 38,
   "metadata": {},
   "outputs": [
    {
     "name": "stdout",
     "output_type": "stream",
     "text": [
      "1 : <unk>\n",
      "2 : <start>\n",
      "3 : <end>\n",
      "4 : ,\n",
      "5 : i\n",
      "6 : the\n",
      "7 : you\n",
      "8 : and\n",
      "9 : a\n",
      "10 : to\n"
     ]
    }
   ],
   "source": [
    "# 단어 사전이 어떻게 구축 되어있을까?\n",
    "for idx in tokenizer.index_word:\n",
    "    print(idx, \":\", tokenizer.index_word[idx])\n",
    "\n",
    "    if idx >= 10: break"
   ]
  },
  {
   "cell_type": "code",
   "execution_count": 39,
   "metadata": {},
   "outputs": [
    {
     "name": "stdout",
     "output_type": "stream",
     "text": [
      "[  2  51  11  57  24   9 339   3   0   0   0   0   0   0]\n",
      "[ 51  11  57  24   9 339   3   0   0   0   0   0   0   0]\n"
     ]
    }
   ],
   "source": [
    "src_input = tensor[:, :-1]  # tensor에서 마지막 토큰을 잘라내서 소스 문장을 생성합니다. 마지막 토큰은 <end>가 아니라 <pad>일 가능성이 높습니다.\n",
    "tgt_input = tensor[:, 1:]    # tensor에서 <start>를 잘라내서 타겟 문장을 생성합니다.\n",
    "\n",
    "print(src_input[0])\n",
    "print(tgt_input[0])"
   ]
  },
  {
   "cell_type": "markdown",
   "metadata": {},
   "source": [
    "## 평가 데이터셋 분리\n",
    "- 훈련 데이터와 평가 데이터 분리\n",
    "- tokenize() 함수로 데이터를 Tensor로 변환\n",
    "- sklearn모듈의 train_test_split()함수를 통해 분리하기\n",
    "- 단어장의 크기는 12,000이상 , 총데이터의 20%를 평가 데이터셋"
   ]
  },
  {
   "cell_type": "code",
   "execution_count": 40,
   "metadata": {},
   "outputs": [],
   "source": [
    "enc_train, enc_val, dec_train, dec_val = train_test_split(src_input, tgt_input, test_size = 0.2, random_state= 30)"
   ]
  },
  {
   "cell_type": "code",
   "execution_count": 41,
   "metadata": {},
   "outputs": [
    {
     "name": "stdout",
     "output_type": "stream",
     "text": [
      "Source Train: (140599, 14)\n",
      "Target Train: (140599, 14)\n"
     ]
    }
   ],
   "source": [
    "print(\"Source Train:\", enc_train.shape)\n",
    "print(\"Target Train:\", dec_train.shape)"
   ]
  },
  {
   "cell_type": "code",
   "execution_count": 42,
   "metadata": {},
   "outputs": [
    {
     "data": {
      "text/plain": [
       "<BatchDataset shapes: ((256, 14), (256, 14)), types: (tf.int32, tf.int32)>"
      ]
     },
     "execution_count": 42,
     "metadata": {},
     "output_type": "execute_result"
    }
   ],
   "source": [
    "BUFFER_SIZE = len(src_input)\n",
    "BATCH_SIZE = 256\n",
    "steps_per_epoch = len(src_input) // BATCH_SIZE\n",
    "\n",
    "VOCAB_SIZE = tokenizer.num_words + 1    # tokenizer가 구축한 단어사전 7000개, 여기 포함되지 않은 0:<pad>를 포함하여 7000+1개\n",
    "\n",
    "dataset = tf.data.Dataset.from_tensor_slices((src_input, tgt_input)).shuffle(BUFFER_SIZE)\n",
    "dataset = dataset.batch(BATCH_SIZE, drop_remainder=True)\n",
    "dataset"
   ]
  },
  {
   "cell_type": "markdown",
   "metadata": {},
   "source": [
    "## 인공지능 학습시키기\n",
    "- tf.keras.Model을 Subclassing하는 방식 \n",
    "- 우리가 만들 모델에는 1개의 Embedding 레이어, 2개의 LSTM 레이어, 1개의 Dense 레이어로 구성\n",
    "    - 임베딩 레이어 : 인덱스 값을 해당 인덱스 번째의 워드 벡터로 바꿔준다. 워드벡터는 의미 벡터 공간에서 단어의 추상적 표현으로 사용됨   \n",
    "    \n",
    "### 모델 만들기"
   ]
  },
  {
   "cell_type": "code",
   "execution_count": 43,
   "metadata": {},
   "outputs": [],
   "source": [
    "class TextGenerator(tf.keras.Model):\n",
    "    def __init__(self, vocab_size, embedding_size, hidden_size):\n",
    "        super(TextGenerator, self).__init__()\n",
    "        \n",
    "        self.embedding = tf.keras.layers.Embedding(vocab_size, embedding_size)\n",
    "        self.rnn_1 = tf.keras.layers.LSTM(hidden_size, return_sequences=True)\n",
    "        self.rnn_2 = tf.keras.layers.LSTM(hidden_size, return_sequences=True)\n",
    "        self.linear = tf.keras.layers.Dense(vocab_size)\n",
    "        \n",
    "    def call(self, x):\n",
    "        out = self.embedding(x)\n",
    "        out = self.rnn_1(out)\n",
    "        out = self.rnn_2(out)\n",
    "        out = self.linear(out)\n",
    "        \n",
    "        return out\n",
    "    \n",
    "embedding_size = 256    #조절하기\n",
    "hidden_size = 1024      #조절하기\n",
    "model = TextGenerator(tokenizer.num_words + 1, embedding_size , hidden_size)"
   ]
  },
  {
   "cell_type": "code",
   "execution_count": 44,
   "metadata": {},
   "outputs": [
    {
     "data": {
      "text/plain": [
       "<tf.Tensor: shape=(256, 14, 7001), dtype=float32, numpy=\n",
       "array([[[ 1.2109203e-05,  5.6750279e-05, -2.3534894e-04, ...,\n",
       "         -4.3504017e-05, -7.5439908e-05,  7.9272511e-05],\n",
       "        [ 3.6484317e-04,  3.8952802e-04, -4.5009708e-04, ...,\n",
       "          2.4349141e-04, -5.5293948e-04,  3.1112591e-04],\n",
       "        [ 5.3157052e-04,  1.3991776e-04, -3.8912683e-04, ...,\n",
       "          7.7537552e-05, -6.1225687e-04,  4.0805570e-04],\n",
       "        ...,\n",
       "        [ 4.7662060e-04, -6.9115697e-05, -4.4430653e-04, ...,\n",
       "          4.9907900e-04, -7.5645593e-04, -7.1980181e-04],\n",
       "        [ 1.1444630e-03,  4.6565401e-05, -6.0193613e-04, ...,\n",
       "          6.0829957e-04, -1.2109221e-03, -4.2494474e-04],\n",
       "        [ 1.7818662e-03,  1.8902571e-04, -7.3691935e-04, ...,\n",
       "          7.6201378e-04, -1.6532571e-03, -1.3339329e-04]],\n",
       "\n",
       "       [[ 1.2109203e-05,  5.6750279e-05, -2.3534894e-04, ...,\n",
       "         -4.3504017e-05, -7.5439908e-05,  7.9272511e-05],\n",
       "        [-5.3298711e-05,  3.5347781e-04, -6.9861003e-04, ...,\n",
       "          2.4395630e-04, -1.9939903e-04, -2.3242758e-04],\n",
       "        [-1.8283342e-04,  3.7147701e-04, -1.0990845e-03, ...,\n",
       "          5.3787831e-04, -2.4126186e-05, -5.2230322e-04],\n",
       "        ...,\n",
       "        [ 4.0063003e-04, -7.9335872e-04, -1.7420771e-03, ...,\n",
       "          6.8486482e-04, -4.3915832e-04,  1.1721167e-03],\n",
       "        [ 7.0007227e-04, -8.5858861e-04, -1.5599155e-03, ...,\n",
       "          7.5374707e-04, -6.8884785e-04,  1.2222788e-03],\n",
       "        [ 1.1686173e-03, -8.7952451e-04, -1.4149006e-03, ...,\n",
       "          8.3130406e-04, -1.0297595e-03,  1.2245479e-03]],\n",
       "\n",
       "       [[ 1.2109203e-05,  5.6750279e-05, -2.3534894e-04, ...,\n",
       "         -4.3504017e-05, -7.5439908e-05,  7.9272511e-05],\n",
       "        [ 3.6511559e-05,  1.3134642e-04, -6.6767988e-04, ...,\n",
       "          1.7689455e-04,  8.7216300e-05, -8.1358012e-06],\n",
       "        [ 1.2829529e-04,  2.0410534e-04, -1.1326325e-03, ...,\n",
       "          5.3945516e-04,  4.1041427e-04, -2.4292582e-04],\n",
       "        ...,\n",
       "        [ 3.2306304e-03,  5.5895111e-04, -1.4428853e-03, ...,\n",
       "          1.5618268e-03, -1.6518082e-03,  2.9467812e-04],\n",
       "        [ 3.5767937e-03,  6.7605928e-04, -1.4266273e-03, ...,\n",
       "          1.7496694e-03, -2.0374251e-03,  4.8462849e-04],\n",
       "        [ 3.8309917e-03,  7.6500647e-04, -1.3993284e-03, ...,\n",
       "          1.9501317e-03, -2.3623828e-03,  6.5179891e-04]],\n",
       "\n",
       "       ...,\n",
       "\n",
       "       [[ 1.2109203e-05,  5.6750279e-05, -2.3534894e-04, ...,\n",
       "         -4.3504017e-05, -7.5439908e-05,  7.9272511e-05],\n",
       "        [ 2.5755088e-04, -9.6328531e-06, -4.4819820e-04, ...,\n",
       "         -9.6866446e-05, -2.5281875e-04,  1.8667881e-04],\n",
       "        [ 2.6988247e-04,  4.1289004e-05, -1.9610974e-04, ...,\n",
       "         -1.9497662e-04, -3.3270012e-04,  3.1823004e-04],\n",
       "        ...,\n",
       "        [ 3.2090894e-03,  4.8440136e-04, -5.0459721e-04, ...,\n",
       "          6.5558165e-04, -2.3121317e-03,  5.7328719e-04],\n",
       "        [ 3.5851679e-03,  5.5800576e-04, -6.0278579e-04, ...,\n",
       "          9.8829309e-04, -2.6014748e-03,  6.9558743e-04],\n",
       "        [ 3.8591698e-03,  6.2083785e-04, -6.9099979e-04, ...,\n",
       "          1.3127278e-03, -2.8368921e-03,  7.9881912e-04]],\n",
       "\n",
       "       [[ 1.2109203e-05,  5.6750279e-05, -2.3534894e-04, ...,\n",
       "         -4.3504017e-05, -7.5439908e-05,  7.9272511e-05],\n",
       "        [-3.4481163e-05,  4.6005007e-05, -6.3454005e-04, ...,\n",
       "          1.1169570e-04, -4.6807434e-04,  2.2978047e-04],\n",
       "        [ 2.4118146e-05, -7.1829032e-05, -1.0021725e-03, ...,\n",
       "          3.0572774e-04, -1.0135594e-03,  3.0948312e-04],\n",
       "        ...,\n",
       "        [ 1.7502636e-04,  5.2864931e-04, -1.1231424e-03, ...,\n",
       "          1.9875937e-04, -3.3302073e-04, -5.7835464e-04],\n",
       "        [ 7.4004068e-04,  6.1249820e-04, -1.0470278e-03, ...,\n",
       "          3.1794794e-04, -8.1623840e-04, -2.5561423e-04],\n",
       "        [ 1.3283604e-03,  6.9493422e-04, -9.9167204e-04, ...,\n",
       "          4.9376505e-04, -1.3014845e-03,  7.2167983e-05]],\n",
       "\n",
       "       [[ 1.2109203e-05,  5.6750279e-05, -2.3534894e-04, ...,\n",
       "         -4.3504017e-05, -7.5439908e-05,  7.9272511e-05],\n",
       "        [-1.2745452e-04, -2.1343990e-04, -2.1928106e-06, ...,\n",
       "          3.9674094e-05, -2.7703773e-04,  4.8524311e-05],\n",
       "        [ 1.7044019e-04, -4.8435628e-05,  2.5389176e-05, ...,\n",
       "          3.6232304e-04, -8.7761611e-04,  1.6722156e-04],\n",
       "        ...,\n",
       "        [ 1.4042943e-03, -3.5609832e-04,  7.4361291e-05, ...,\n",
       "         -3.9631280e-04, -6.4195035e-04, -6.3110120e-04],\n",
       "        [ 1.2937376e-03, -3.0209721e-04, -1.5392556e-04, ...,\n",
       "         -4.9635302e-04, -6.6487049e-04, -4.8233423e-04],\n",
       "        [ 1.1266341e-03, -1.9730285e-05, -3.7031100e-04, ...,\n",
       "         -5.2212703e-04, -6.7264825e-04, -5.5019028e-04]]], dtype=float32)>"
      ]
     },
     "execution_count": 44,
     "metadata": {},
     "output_type": "execute_result"
    }
   ],
   "source": [
    "for src_sample, tgt_sample in dataset.take(1): break\n",
    "model(src_sample)"
   ]
  },
  {
   "cell_type": "markdown",
   "metadata": {},
   "source": [
    "<tf.Tensor: shape=(256, 14, 7001), dtype=float32, numpy=\n",
    "\n",
    "- 1) 7001 - Dense 레이어의 출력 차원수  :7001개 단어 중 어느 단어의 확률이 가장 높을지 모델링  \n",
    "- 2) 256 - 이전 스텝에서 지정한 배치 사이즈 : dataset.take(1)을 통해 1개의 배치=256개의 문장 데이터 가져옴  \n",
    "- 3) 14 - LSTM은 자신에게 입력 된 시퀸스의 길이만큼 동일한 길이의 시퀸스를 출력한다.\n",
    "    - tf.keras.layers.LSTM(hidden_size, return_sequences=True)로 호출한 LSTM 레이어에서 return_sequences=True이라고 지정한 부분\n",
    "    - 만약 return_sequences=False였다면 LSTM 레이어는 1개의 벡터만 출력\n",
    "    - 데이터를 입력받으면서 비로소 알게 된 것/우리 데이터셋의 max_len이 15로 맞춰져 있었던 것\n",
    "        - 토큰 갯수가 15개가 넘어가면 학습데이터에서 제외"
   ]
  },
  {
   "cell_type": "code",
   "execution_count": 45,
   "metadata": {},
   "outputs": [
    {
     "name": "stdout",
     "output_type": "stream",
     "text": [
      "Model: \"text_generator_2\"\n",
      "_________________________________________________________________\n",
      "Layer (type)                 Output Shape              Param #   \n",
      "=================================================================\n",
      "embedding_2 (Embedding)      multiple                  1792256   \n",
      "_________________________________________________________________\n",
      "lstm_4 (LSTM)                multiple                  5246976   \n",
      "_________________________________________________________________\n",
      "lstm_5 (LSTM)                multiple                  8392704   \n",
      "_________________________________________________________________\n",
      "dense_2 (Dense)              multiple                  7176025   \n",
      "=================================================================\n",
      "Total params: 22,607,961\n",
      "Trainable params: 22,607,961\n",
      "Non-trainable params: 0\n",
      "_________________________________________________________________\n"
     ]
    }
   ],
   "source": [
    "model.summary()"
   ]
  },
  {
   "cell_type": "markdown",
   "metadata": {},
   "source": [
    "### 모델 학습시키기 - loss 2.2로 줄이기"
   ]
  },
  {
   "cell_type": "code",
   "execution_count": 49,
   "metadata": {},
   "outputs": [
    {
     "name": "stdout",
     "output_type": "stream",
     "text": [
      "Epoch 1/10\n",
      "686/686 [==============================] - 112s 163ms/step - loss: 2.0778 - val_loss: 1.9516\n",
      "Epoch 2/10\n",
      "686/686 [==============================] - 115s 168ms/step - loss: 1.9692 - val_loss: 1.8643\n",
      "Epoch 3/10\n",
      "686/686 [==============================] - 113s 165ms/step - loss: 1.8879 - val_loss: 1.7817\n",
      "Epoch 4/10\n",
      "686/686 [==============================] - 113s 164ms/step - loss: 1.8095 - val_loss: 1.7070\n",
      "Epoch 5/10\n",
      "686/686 [==============================] - 113s 165ms/step - loss: 1.7328 - val_loss: 1.6320\n",
      "Epoch 6/10\n",
      "686/686 [==============================] - 114s 165ms/step - loss: 1.6599 - val_loss: 1.5564\n",
      "Epoch 7/10\n",
      "686/686 [==============================] - 113s 165ms/step - loss: 1.5898 - val_loss: 1.4902\n",
      "Epoch 8/10\n",
      "686/686 [==============================] - 113s 165ms/step - loss: 1.5233 - val_loss: 1.4260\n",
      "Epoch 9/10\n",
      "686/686 [==============================] - 113s 165ms/step - loss: 1.4601 - val_loss: 1.3652\n",
      "Epoch 10/10\n",
      "686/686 [==============================] - 112s 163ms/step - loss: 1.4009 - val_loss: 1.3087\n"
     ]
    },
    {
     "data": {
      "text/plain": [
       "<tensorflow.python.keras.callbacks.History at 0x7f14288fac90>"
      ]
     },
     "execution_count": 49,
     "metadata": {},
     "output_type": "execute_result"
    }
   ],
   "source": [
    "## 모델 학습\n",
    "optimizer = tf.keras.optimizers.Adam()\n",
    "loss = tf.keras.losses.SparseCategoricalCrossentropy(\n",
    "    from_logits=True, \n",
    "    reduction='none'\n",
    ")\n",
    "\n",
    "model.compile(loss=loss, optimizer=optimizer)\n",
    "model.fit(dataset, epochs=10,validation_data=dataset)"
   ]
  },
  {
   "cell_type": "markdown",
   "metadata": {},
   "source": [
    "### 모델 평가"
   ]
  },
  {
   "cell_type": "code",
   "execution_count": 52,
   "metadata": {},
   "outputs": [],
   "source": [
    "## 잘 만들어졌는지 평가하기 - 작문을 시켜보고 직접 평가\n",
    "# generate_text함수 : 모델에게 시작 문장을 전달하면 모델이 시작 문장을 바탕으로 작문을 진행\n",
    "def generate_text(model, tokenizer, init_sentence=\"<start>\", max_len=20):\n",
    "    # 테스트를 위해서 입력받은 init_sentence도 일단 텐서로 변환합니다.\n",
    "    test_input = tokenizer.texts_to_sequences([init_sentence])\n",
    "    test_tensor = tf.convert_to_tensor(test_input, dtype=tf.int64)\n",
    "    end_token = tokenizer.word_index[\"<end>\"]\n",
    "\n",
    "    # 텍스트를 실제로 생성할때는 루프를 돌면서 단어 하나씩 생성해야 합니다.  (테스트 데이터셋 없음)\n",
    "    while True:\n",
    "        predict = model(test_tensor)  # 입력받은 문장의 텐서를 입력합니다. \n",
    "        predict_word = tf.argmax(tf.nn.softmax(predict, axis=-1), axis=-1)[:, -1]   # 우리 모델이 예측한 마지막 단어가 바로 새롭게 생성한 단어가 됩니다. \n",
    "\n",
    "        # 우리 모델이 새롭게 예측한 단어를 입력 문장의 뒤에 붙여 줍니다. \n",
    "        test_tensor = tf.concat([test_tensor, \n",
    "                                 tf.expand_dims(predict_word, axis=0)], axis=-1)\n",
    "\n",
    "        # 우리 모델이 <end>를 예측했거나, max_len에 도달하지 않았다면  while 루프를 또 돌면서 다음 단어를 예측해야 합니다.\n",
    "        if predict_word.numpy()[0] == end_token: break\n",
    "        if test_tensor.shape[1] >= max_len: break\n",
    "\n",
    "    generated = \"\"\n",
    "    # 생성된 tensor 안에 있는 word index를 tokenizer.index_word 사전을 통해 실제 단어로 하나씩 변환합니다. \n",
    "    for word_index in test_tensor[0].numpy():\n",
    "        generated += tokenizer.index_word[word_index] + \" \"\n",
    "\n",
    "    return generated   # 이것이 최종적으로 모델이 생성한 자연어 문장입니다."
   ]
  },
  {
   "cell_type": "code",
   "execution_count": 62,
   "metadata": {},
   "outputs": [
    {
     "data": {
      "text/plain": [
       "'<start> i take it for a minute , <end> '"
      ]
     },
     "execution_count": 62,
     "metadata": {},
     "output_type": "execute_result"
    }
   ],
   "source": [
    "# 문장 생성 함수\n",
    "generate_text(model, tokenizer, init_sentence=\"<start> I take\", max_len=20)"
   ]
  },
  {
   "cell_type": "markdown",
   "metadata": {},
   "source": [
    "---\n",
    "## 루브릭 평가 요구사항  \n",
    "  \n",
    "### 1) 가사 텍스트 생성 모델이 정상적으로 동작하는가? ?\n",
    "- 가사 자동 생성 모델을 만들어 훈련시키고 테스트한 결과, 문장 생성 했을 때 그럴듯 한 문장으로 완성시켜 준다.\n",
    "\n",
    "### 2)  데이터의 전처리와 데이터셋 구성 과정이 체계적으로 진행되었는가?  \n",
    "- 정제 함수를 통해 특수문자를 제거하고, Tokenizer 패키지로 토큰화를 진행하였으며, 데이터 시퀸스 길이를 일정하게 맞추기 위한 padding 메소드를 활용하였다. \n",
    "\n",
    "### 3) 텍스트 생성모델의 validation loss가 2.2 이하로 낮아졌는가?  \n",
    "- 텍스트 생성 모델의 validation loss 가 모두 2 이하였다.  \n",
    "---"
   ]
  },
  {
   "cell_type": "markdown",
   "metadata": {},
   "source": [
    "# 회고  \n",
    "---- \n",
    "이전 프로젝트를 통해 자연어 처리에 익숙해져서 처음 보다는 조금 더 수월하게 프로젝트를 마무리 하였다. 마지막 테스트를 위한 문장 생성의 초기 단어를 계속 바꿔주며 결과값을 지켜보았다. 조금은 미숙한 문장이 나타날 때도 있었지만 그럴듯한 긴 문장도 만들어내니 신기하기도 하였다.   \n",
    "\n",
    "약 한달정도의 프로젝트를 진행하니, 이제는 제출을 위한 학습을 하는 것이 아닌가 생각이 들었다. 내것으로 받아들이기 위해 코드 하나하나를 분석하고 학습하고 싶다.  \n"
   ]
  }
 ],
 "metadata": {
  "kernelspec": {
   "display_name": "aiffel",
   "language": "python",
   "name": "aiffel"
  },
  "language_info": {
   "codemirror_mode": {
    "name": "ipython",
    "version": 3
   },
   "file_extension": ".py",
   "mimetype": "text/x-python",
   "name": "python",
   "nbconvert_exporter": "python",
   "pygments_lexer": "ipython3",
   "version": "3.7.9"
  }
 },
 "nbformat": 4,
 "nbformat_minor": 4
}
