{
 "cells": [
  {
   "cell_type": "markdown",
   "metadata": {},
   "source": [
    "# 뉴스기사 요약해보기\n",
    "## 1) 데이터 수집하기"
   ]
  },
  {
   "cell_type": "code",
   "execution_count": 2,
   "metadata": {},
   "outputs": [],
   "source": [
    "# 데이터 다운로드\n",
    "import pandas as pd\n",
    "import urllib.request\n",
    "\n",
    "urllib.request.urlretrieve(\"https://raw.githubusercontent.com/sunnysai12345/News_Summary/master/news_summary_more.csv\", filename=\"news_summary_more.csv\")\n",
    "data = pd.read_csv('news_summary_more.csv', encoding='iso-8859-1')"
   ]
  },
  {
   "cell_type": "code",
   "execution_count": 3,
   "metadata": {},
   "outputs": [
    {
     "data": {
      "text/html": [
       "<div>\n",
       "<style scoped>\n",
       "    .dataframe tbody tr th:only-of-type {\n",
       "        vertical-align: middle;\n",
       "    }\n",
       "\n",
       "    .dataframe tbody tr th {\n",
       "        vertical-align: top;\n",
       "    }\n",
       "\n",
       "    .dataframe thead th {\n",
       "        text-align: right;\n",
       "    }\n",
       "</style>\n",
       "<table border=\"1\" class=\"dataframe\">\n",
       "  <thead>\n",
       "    <tr style=\"text-align: right;\">\n",
       "      <th></th>\n",
       "      <th>headlines</th>\n",
       "      <th>text</th>\n",
       "    </tr>\n",
       "  </thead>\n",
       "  <tbody>\n",
       "    <tr>\n",
       "      <th>31034</th>\n",
       "      <td>BJP's CM candidate BS Yeddyurappa wins from Sh...</td>\n",
       "      <td>The BJP's Chief Ministerial candidate BS Yeddy...</td>\n",
       "    </tr>\n",
       "    <tr>\n",
       "      <th>79226</th>\n",
       "      <td>Bihar class 10 student's marks up from 0 to 94...</td>\n",
       "      <td>A class 10 student from Bihar, who got 0 in Ma...</td>\n",
       "    </tr>\n",
       "    <tr>\n",
       "      <th>7542</th>\n",
       "      <td>Illegal goods, black money worth Ã¢ÂÂ¹111 cr ...</td>\n",
       "      <td>As of Monday, officials have reportedly seized...</td>\n",
       "    </tr>\n",
       "    <tr>\n",
       "      <th>85289</th>\n",
       "      <td>Virat Kohli becomes world's number 1 ODI batsman</td>\n",
       "      <td>Virat Kohli has become the top-ranked ODI bats...</td>\n",
       "    </tr>\n",
       "    <tr>\n",
       "      <th>32290</th>\n",
       "      <td>Air India air hostess molested by pilot during...</td>\n",
       "      <td>An Air India air hostess was allegedly moleste...</td>\n",
       "    </tr>\n",
       "    <tr>\n",
       "      <th>50356</th>\n",
       "      <td>NY bar bans use of word 'literally' to stop 'K...</td>\n",
       "      <td>The New York-based Continental bar has banned ...</td>\n",
       "    </tr>\n",
       "    <tr>\n",
       "      <th>81602</th>\n",
       "      <td>G20 forms dangerous alliances that harm the wo...</td>\n",
       "      <td>Pope Francis has warned leaders of the world's...</td>\n",
       "    </tr>\n",
       "    <tr>\n",
       "      <th>3825</th>\n",
       "      <td>Warne gave 150 runs, took only Shastri's wicke...</td>\n",
       "      <td>Former Australian leg-spinner Shane Warne was ...</td>\n",
       "    </tr>\n",
       "    <tr>\n",
       "      <th>21969</th>\n",
       "      <td>Thousands of cows stranded in France due to Ir...</td>\n",
       "      <td>Thousands of cows have been stranded in the Fr...</td>\n",
       "    </tr>\n",
       "    <tr>\n",
       "      <th>8715</th>\n",
       "      <td>Cristiano Ronaldo breaks Juventus goalscoring ...</td>\n",
       "      <td>Portuguese captain Cristiano Ronaldo on Saturd...</td>\n",
       "    </tr>\n",
       "  </tbody>\n",
       "</table>\n",
       "</div>"
      ],
      "text/plain": [
       "                                               headlines  \\\n",
       "31034  BJP's CM candidate BS Yeddyurappa wins from Sh...   \n",
       "79226  Bihar class 10 student's marks up from 0 to 94...   \n",
       "7542   Illegal goods, black money worth Ã¢ÂÂ¹111 cr ...   \n",
       "85289   Virat Kohli becomes world's number 1 ODI batsman   \n",
       "32290  Air India air hostess molested by pilot during...   \n",
       "50356  NY bar bans use of word 'literally' to stop 'K...   \n",
       "81602  G20 forms dangerous alliances that harm the wo...   \n",
       "3825   Warne gave 150 runs, took only Shastri's wicke...   \n",
       "21969  Thousands of cows stranded in France due to Ir...   \n",
       "8715   Cristiano Ronaldo breaks Juventus goalscoring ...   \n",
       "\n",
       "                                                    text  \n",
       "31034  The BJP's Chief Ministerial candidate BS Yeddy...  \n",
       "79226  A class 10 student from Bihar, who got 0 in Ma...  \n",
       "7542   As of Monday, officials have reportedly seized...  \n",
       "85289  Virat Kohli has become the top-ranked ODI bats...  \n",
       "32290  An Air India air hostess was allegedly moleste...  \n",
       "50356  The New York-based Continental bar has banned ...  \n",
       "81602  Pope Francis has warned leaders of the world's...  \n",
       "3825   Former Australian leg-spinner Shane Warne was ...  \n",
       "21969  Thousands of cows have been stranded in the Fr...  \n",
       "8715   Portuguese captain Cristiano Ronaldo on Saturd...  "
      ]
     },
     "execution_count": 3,
     "metadata": {},
     "output_type": "execute_result"
    }
   ],
   "source": [
    "# 데이터 살펴보기\n",
    "data.sample(10)"
   ]
  },
  {
   "cell_type": "markdown",
   "metadata": {},
   "source": [
    "- 추상적 요약 : text를 본문 , headlines를 이미 요약된 데이터로 이용하여 모델학습\n",
    "- 추출적 요약 : text열만 이용  \n",
    "  \n",
    "    \n",
    "## 2) 데이터 전처리 (추상적 요약)"
   ]
  },
  {
   "cell_type": "code",
   "execution_count": null,
   "metadata": {},
   "outputs": [],
   "source": []
  }
 ],
 "metadata": {
  "kernelspec": {
   "display_name": "aiffel",
   "language": "python",
   "name": "aiffel"
  },
  "language_info": {
   "codemirror_mode": {
    "name": "ipython",
    "version": 3
   },
   "file_extension": ".py",
   "mimetype": "text/x-python",
   "name": "python",
   "nbconvert_exporter": "python",
   "pygments_lexer": "ipython3",
   "version": "3.7.9"
  }
 },
 "nbformat": 4,
 "nbformat_minor": 4
}
