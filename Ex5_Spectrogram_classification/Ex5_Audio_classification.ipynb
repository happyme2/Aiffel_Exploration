{
 "cells": [
  {
   "cell_type": "markdown",
   "metadata": {},
   "source": [
    "# Audio Classification  \n",
    "\n",
    "## Spectrogram classification 모델 구현  \n",
    "- 2차원 Spectrogram 데이터를 입력받아 위 모델과 동일한 역할을 수행하는 모델\n",
    "- 기본 버전과 Skip-connection 버전으로 나누어 각각 진행"
   ]
  },
  {
   "cell_type": "markdown",
   "metadata": {},
   "source": [
    "## 데이터 처리와 분류"
   ]
  },
  {
   "cell_type": "code",
   "execution_count": 1,
   "metadata": {},
   "outputs": [
    {
     "name": "stdout",
     "output_type": "stream",
     "text": [
      "✅\n"
     ]
    }
   ],
   "source": [
    "import numpy as np\n",
    "import os\n",
    "\n",
    "#데이터 저장 및 불러오기\n",
    "data_path = os.getenv(\"HOME\")+'/aiffel/speech_recognition/data/speech_wav_8000.npz'\n",
    "speech_data = np.load(data_path)\n",
    "print(\"✅\")"
   ]
  },
  {
   "cell_type": "code",
   "execution_count": 2,
   "metadata": {},
   "outputs": [
    {
     "name": "stdout",
     "output_type": "stream",
     "text": [
      "Wave data shape :  (50620, 8000)\n",
      "Label data shape :  (50620, 1)\n",
      "✅\n"
     ]
    }
   ],
   "source": [
    "# npz파일로 이뤄진 데이터 저장 확인\n",
    "print(\"Wave data shape : \", speech_data[\"wav_vals\"].shape) \n",
    "print(\"Label data shape : \", speech_data[\"label_vals\"].shape)\n",
    "print(\"✅\")"
   ]
  },
  {
   "cell_type": "markdown",
   "metadata": {},
   "source": [
    "데이터셋 1초길이 오디오 음성데이터 50620개  \n",
    "데이터의 Sample rate는 16000개 이지만, 8000으로 re-sampling  \n",
    "모두 1초의 길이를 가지는 오디오 음성데이터 - 각각 8000개의 sample data 있다"
   ]
  },
  {
   "cell_type": "code",
   "execution_count": 3,
   "metadata": {},
   "outputs": [
    {
     "name": "stdout",
     "output_type": "stream",
     "text": [
      "rand num :  16458\n",
      "Wave data shape :  (8000,)\n",
      "label :  ['stop']\n"
     ]
    },
    {
     "data": {
      "text/html": [
       "\n",
       "                <audio  controls=\"controls\" >\n",
       "                    <source src=\"data:audio/wav;base64,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\" type=\"audio/wav\" />\n",
       "                    Your browser does not support the audio element.\n",
       "                </audio>\n",
       "              "
      ],
      "text/plain": [
       "<IPython.lib.display.Audio object>"
      ]
     },
     "execution_count": 3,
     "metadata": {},
     "output_type": "execute_result"
    }
   ],
   "source": [
    "#데이터 확인\n",
    "import IPython.display as ipd\n",
    "import random\n",
    "\n",
    "# 데이터 선택 (랜덤하게 선택하고 있으니, 여러번 실행해 보세요)\n",
    "rand = random.randint(0, len(speech_data[\"wav_vals\"]))\n",
    "print(\"rand num : \", rand)\n",
    "\n",
    "sr = 8000 # 1초동안 재생되는 샘플의 갯수\n",
    "data = speech_data[\"wav_vals\"][rand]\n",
    "print(\"Wave data shape : \", data.shape)\n",
    "print(\"label : \", speech_data[\"label_vals\"][rand])\n",
    "\n",
    "ipd.Audio(data, rate=sr)"
   ]
  },
  {
   "cell_type": "markdown",
   "metadata": {},
   "source": [
    "### Train/Test 데이터셋 구성"
   ]
  },
  {
   "cell_type": "markdown",
   "metadata": {},
   "source": [
    "#### Spectrogram ?  \n",
    "- 일정 시간동안 wav 데이터 안의 다양한 주파수들이 얼마나 포함되어 있는지 보여준다.  \n",
    "#### 2차원 Spectrogram 으로 변환"
   ]
  },
  {
   "cell_type": "code",
   "execution_count": 4,
   "metadata": {},
   "outputs": [
    {
     "name": "stdout",
     "output_type": "stream",
     "text": [
      "✅\n"
     ]
    }
   ],
   "source": [
    "# Spectrogram 데이터 생성\n",
    "import librosa\n",
    "\n",
    "def wav2spec(wav, fft_size=258): # spectrogram shape을 맞추기위해서 size 변형\n",
    "    D = np.abs(librosa.stft(wav, n_fft=fft_size))\n",
    "    return D\n",
    "print(\"✅\")\n"
   ]
  },
  {
   "cell_type": "code",
   "execution_count": 6,
   "metadata": {},
   "outputs": [
    {
     "data": {
      "text/plain": [
       "(15000, 130, 126)"
      ]
     },
     "execution_count": 6,
     "metadata": {},
     "output_type": "execute_result"
    }
   ],
   "source": [
    "spec_data=[] #빈깡통을 만들어준다.\n",
    "\n",
    "for wav in speech_data[\"wav_vals\"][:15000]: #1차원 wav 하나씩 가져온다. 커널이 자꾸 끊어져 데이터양 축소\n",
    "    spec = wav2spec(wav)\n",
    "    spec_data.append(spec)\n",
    "    \n",
    "spec_data = np.array(spec_data)\n",
    "spec_data.shape"
   ]
  },
  {
   "cell_type": "code",
   "execution_count": 9,
   "metadata": {},
   "outputs": [
    {
     "name": "stdout",
     "output_type": "stream",
     "text": [
      "LABEL :  ['yes', 'no', 'up', 'down', 'left', 'right', 'on', 'off', 'stop', 'go', 'unknown', 'silence']\n",
      "Indexed LABEL :  {'yes': 0, 'no': 1, 'up': 2, 'down': 3, 'left': 4, 'right': 5, 'on': 6, 'off': 7, 'stop': 8, 'go': 9, 'unknown': 10, 'silence': 11}\n"
     ]
    }
   ],
   "source": [
    "# Label data 처리 : Text -> index 형태로 바꾸기\n",
    "target_list = ['yes', 'no', 'up', 'down', 'left', 'right', 'on', 'off', 'stop', 'go']\n",
    "\n",
    "label_value = target_list\n",
    "label_value.append('unknown')\n",
    "label_value.append('silence')\n",
    "\n",
    "print('LABEL : ', label_value)\n",
    "\n",
    "new_label_value = dict()\n",
    "for i, l in enumerate(label_value):\n",
    "    new_label_value[l] = i\n",
    "label_value = new_label_value\n",
    "\n",
    "print('Indexed LABEL : ', new_label_value)"
   ]
  },
  {
   "cell_type": "code",
   "execution_count": 10,
   "metadata": {},
   "outputs": [
    {
     "data": {
      "text/plain": [
       "array([ 3,  3,  3, ..., 11, 11, 11])"
      ]
     },
     "execution_count": 10,
     "metadata": {},
     "output_type": "execute_result"
    }
   ],
   "source": [
    "# int index로 변환\n",
    "temp = []\n",
    "for v in speech_data[\"label_vals\"]:\n",
    "    temp.append(label_value[v[0]])\n",
    "label_data = np.array(temp)\n",
    "\n",
    "label_data"
   ]
  },
  {
   "cell_type": "code",
   "execution_count": 11,
   "metadata": {},
   "outputs": [
    {
     "data": {
      "text/plain": [
       "(15000,)"
      ]
     },
     "execution_count": 11,
     "metadata": {},
     "output_type": "execute_result"
    }
   ],
   "source": [
    "# 정답 데이터도 데이터양 축소 / 2차원 변환\n",
    "label_data=label_data[:15000]\n",
    "label_data.shape"
   ]
  },
  {
   "cell_type": "markdown",
   "metadata": {},
   "source": [
    "### 학습을 위한 데이터 분리\n",
    "- sklearn의 train_test_split 함수를 이용해 train data와 test data를 분리"
   ]
  },
  {
   "cell_type": "code",
   "execution_count": 13,
   "metadata": {},
   "outputs": [
    {
     "name": "stdout",
     "output_type": "stream",
     "text": [
      "✅\n"
     ]
    }
   ],
   "source": [
    "from sklearn.model_selection import train_test_split\n",
    "\n",
    "\n",
    "train_spec, test_spec, train_label, test_label = train_test_split(spec_data, \n",
    "                                                                label_data, \n",
    "                                                                test_size=0.1,\n",
    "                                                                shuffle=True)\n",
    "train_spec = train_spec.reshape([-1, 130,126, 1]) # add channel for CNN\n",
    "test_spec = test_spec.reshape([-1, 130,126, 1])\n",
    "print(\"✅\")"
   ]
  },
  {
   "cell_type": "code",
   "execution_count": 16,
   "metadata": {},
   "outputs": [
    {
     "name": "stdout",
     "output_type": "stream",
     "text": [
      "train data :  (13500, 130, 126, 1)\n",
      "train labels :  (13500,)\n",
      "test data :  (1500, 130, 126, 1)\n",
      "test labels :  (1500,)\n",
      "✅\n"
     ]
    }
   ],
   "source": [
    "# 나눠진 데이터셋 확인\n",
    "print(\"train data : \", train_spec.shape)\n",
    "print(\"train labels : \", train_label.shape)\n",
    "print(\"test data : \", test_spec.shape)\n",
    "print(\"test labels : \", test_label.shape)\n",
    "print(\"✅\")"
   ]
  },
  {
   "cell_type": "markdown",
   "metadata": {},
   "source": [
    "## 학습을 위한 하이퍼파라미터 설정"
   ]
  },
  {
   "cell_type": "code",
   "execution_count": 17,
   "metadata": {},
   "outputs": [
    {
     "data": {
      "text/plain": [
       "'/home/aiffel/aiffel/speech_recognition/models/wav'"
      ]
     },
     "execution_count": 17,
     "metadata": {},
     "output_type": "execute_result"
    }
   ],
   "source": [
    "# 모델 체크포인트 Callback 함수를 설정 / 모델 불러올 때 사용\n",
    "batch_size = 32\n",
    "max_epochs = 10\n",
    "\n",
    "# the save point\n",
    "checkpoint_dir = os.getenv('HOME')+'/aiffel/speech_recognition/models/wav'\n",
    "\n",
    "checkpoint_dir"
   ]
  },
  {
   "cell_type": "markdown",
   "metadata": {},
   "source": [
    "## 데이터셋 구성"
   ]
  },
  {
   "cell_type": "code",
   "execution_count": 18,
   "metadata": {},
   "outputs": [
    {
     "name": "stdout",
     "output_type": "stream",
     "text": [
      "✅\n"
     ]
    }
   ],
   "source": [
    "# map함수에 넘겨줄 데이터 전처리 함수\n",
    "def one_hot_label(wav, label):\n",
    "    label = tf.one_hot(label, depth=12)\n",
    "    return wav, label\n",
    "print(\"✅\")"
   ]
  },
  {
   "cell_type": "code",
   "execution_count": 20,
   "metadata": {},
   "outputs": [
    {
     "name": "stdout",
     "output_type": "stream",
     "text": [
      "<BatchDataset shapes: ((None, 130, 126, 1), (None, 12)), types: (tf.float32, tf.float32)>\n",
      "<BatchDataset shapes: ((None, 130, 126, 1), (None, 12)), types: (tf.float32, tf.float32)>\n",
      "✅\n"
     ]
    }
   ],
   "source": [
    "# tf.data.Dataset함수 구성 - 데이터셋 전처리, 배치처리 쉽게 해준다.\n",
    "\n",
    "import tensorflow as tf\n",
    "\n",
    "# for train\n",
    "train_dataset = tf.data.Dataset.from_tensor_slices((train_spec, train_label))\n",
    "                # return 받길 원하는 데이터를 튜플(data,label) 형태로 넣어서 사용\n",
    "train_dataset = train_dataset.map(one_hot_label)\n",
    "                # dataset이 데이터를 불러올때마다 동작시킬 데이터 전처리 함수 매핑해주는 역할\n",
    "train_dataset = train_dataset.repeat().batch(batch_size=batch_size) \n",
    "                #batch는 dataset에서 제공하는 튜플 형태의 데이터를 얼마나 가져올지 결정하는 함수\n",
    "print(train_dataset)\n",
    "\n",
    "# for test\n",
    "test_dataset = tf.data.Dataset.from_tensor_slices((test_spec, test_label))\n",
    "test_dataset = test_dataset.map(one_hot_label)\n",
    "test_dataset = test_dataset.batch(batch_size=batch_size)\n",
    "print(test_dataset)\n",
    "print(\"✅\")"
   ]
  },
  {
   "cell_type": "code",
   "execution_count": 25,
   "metadata": {},
   "outputs": [],
   "source": [
    "#데이터 비워주기\n",
    "# 주의 : waveform을 spectrogram으로 변환하기 위해 추가로 사용하는 메모리 때문에 이후 메모리 부족 현상을 겪게 될수도 있습니다.\n",
    "\n",
    "#tf.data.Dataset이 생성된 이후, 아래 예시와 같이 wav 데이터나 spectrogram 데이터를 담아둔 메모리 버퍼를 비워 주면 도움이 됩니다.\n",
    "\n",
    "#del speech_data\n",
    "#del spec_data\n"
   ]
  },
  {
   "cell_type": "markdown",
   "metadata": {},
   "source": [
    "## 2차원 Spectrogram 데이터 처리 모델 구성"
   ]
  },
  {
   "cell_type": "code",
   "execution_count": 22,
   "metadata": {},
   "outputs": [
    {
     "name": "stdout",
     "output_type": "stream",
     "text": [
      "Model: \"basic_model\"\n",
      "_________________________________________________________________\n",
      "Layer (type)                 Output Shape              Param #   \n",
      "=================================================================\n",
      "input_2 (InputLayer)         [(None, 130, 126, 1)]     0         \n",
      "_________________________________________________________________\n",
      "conv2d (Conv2D)              (None, 130, 126, 32)      2624      \n",
      "_________________________________________________________________\n",
      "conv2d_1 (Conv2D)            (None, 130, 126, 32)      82976     \n",
      "_________________________________________________________________\n",
      "max_pooling2d (MaxPooling2D) (None, 65, 63, 32)        0         \n",
      "_________________________________________________________________\n",
      "conv2d_2 (Conv2D)            (None, 65, 63, 64)        165952    \n",
      "_________________________________________________________________\n",
      "conv2d_3 (Conv2D)            (None, 65, 63, 64)        331840    \n",
      "_________________________________________________________________\n",
      "max_pooling2d_1 (MaxPooling2 (None, 32, 31, 64)        0         \n",
      "_________________________________________________________________\n",
      "conv2d_4 (Conv2D)            (None, 32, 31, 128)       663680    \n",
      "_________________________________________________________________\n",
      "conv2d_5 (Conv2D)            (None, 32, 31, 128)       1327232   \n",
      "_________________________________________________________________\n",
      "conv2d_6 (Conv2D)            (None, 32, 31, 128)       1327232   \n",
      "_________________________________________________________________\n",
      "max_pooling2d_2 (MaxPooling2 (None, 16, 15, 128)       0         \n",
      "_________________________________________________________________\n",
      "conv2d_7 (Conv2D)            (None, 16, 15, 256)       2654464   \n",
      "_________________________________________________________________\n",
      "conv2d_8 (Conv2D)            (None, 16, 15, 256)       5308672   \n",
      "_________________________________________________________________\n",
      "conv2d_9 (Conv2D)            (None, 16, 15, 256)       5308672   \n",
      "_________________________________________________________________\n",
      "max_pooling2d_3 (MaxPooling2 (None, 8, 7, 256)         0         \n",
      "_________________________________________________________________\n",
      "dropout_1 (Dropout)          (None, 8, 7, 256)         0         \n",
      "_________________________________________________________________\n",
      "flatten_1 (Flatten)          (None, 14336)             0         \n",
      "_________________________________________________________________\n",
      "dense_2 (Dense)              (None, 256)               3670272   \n",
      "_________________________________________________________________\n",
      "batch_normalization_1 (Batch (None, 256)               1024      \n",
      "_________________________________________________________________\n",
      "activation_1 (Activation)    (None, 256)               0         \n",
      "_________________________________________________________________\n",
      "dense_3 (Dense)              (None, 12)                3084      \n",
      "=================================================================\n",
      "Total params: 20,847,724\n",
      "Trainable params: 20,847,212\n",
      "Non-trainable params: 512\n",
      "_________________________________________________________________\n"
     ]
    }
   ],
   "source": [
    "from tensorflow.keras import layers\n",
    "\n",
    "input_tensor = layers.Input(shape=(130,126,1))   #(130,126)은 spec_shape\n",
    "\n",
    "x = layers.Conv2D(32, 9, padding='same', activation='relu')(input_tensor)\n",
    "x = layers.Conv2D(32, 9, padding='same', activation='relu')(x)\n",
    "x = layers.MaxPool2D()(x)\n",
    "\n",
    "x = layers.Conv2D(64, 9, padding='same', activation='relu')(x)\n",
    "x = layers.Conv2D(64, 9, padding='same', activation='relu')(x)\n",
    "x = layers.MaxPool2D()(x)\n",
    "\n",
    "x = layers.Conv2D(128, 9, padding='same', activation='relu')(x)\n",
    "x = layers.Conv2D(128, 9, padding='same', activation='relu')(x)\n",
    "x = layers.Conv2D(128, 9, padding='same', activation='relu')(x)\n",
    "x = layers.MaxPool2D()(x)\n",
    "\n",
    "x = layers.Conv2D(256, 9, padding='same', activation='relu')(x)\n",
    "x = layers.Conv2D(256, 9, padding='same', activation='relu')(x)\n",
    "x = layers.Conv2D(256, 9, padding='same', activation='relu')(x)\n",
    "x = layers.MaxPool2D()(x)\n",
    "x = layers.Dropout(0.3)(x)\n",
    "\n",
    "x = layers.Flatten()(x)\n",
    "x = layers.Dense(256)(x)\n",
    "x = layers.BatchNormalization()(x)\n",
    "x = layers.Activation('relu')(x)\n",
    "\n",
    "output_tensor = layers.Dense(12)(x)\n",
    "\n",
    "model_spec = tf.keras.Model( input_tensor, output_tensor,name='basic_model')\n",
    "\n",
    "model_spec.summary()"
   ]
  },
  {
   "cell_type": "code",
   "execution_count": 23,
   "metadata": {},
   "outputs": [
    {
     "name": "stdout",
     "output_type": "stream",
     "text": [
      "✅\n"
     ]
    }
   ],
   "source": [
    "# 12개 단어 class 구분하는 Loss/Adam optimizer 사용\n",
    "optimizer=tf.keras.optimizers.Adam(1e-4)\n",
    "model_spec.compile(loss=tf.keras.losses.CategoricalCrossentropy(from_logits=True),\n",
    "             optimizer=optimizer,\n",
    "             metrics=['accuracy'])\n",
    "print(\"✅\")"
   ]
  },
  {
   "cell_type": "code",
   "execution_count": 24,
   "metadata": {},
   "outputs": [
    {
     "name": "stdout",
     "output_type": "stream",
     "text": [
      "✅\n"
     ]
    }
   ],
   "source": [
    "# 모델 가중치 저장하는 checkpoint callback 함수 추가\n",
    "cp_callback = tf.keras.callbacks.ModelCheckpoint(checkpoint_dir,\n",
    "                                                 save_weights_only=True,\n",
    "                                                 monitor='val_loss',\n",
    "                                                 mode='auto',\n",
    "                                                 save_best_only=True,\n",
    "                                                 verbose=1)\n",
    "    #모델 학습을 진행하며 fit함수 내 다양한 인자를 지정해 모니터하며 동작하게 설정\n",
    "print(\"✅\")"
   ]
  },
  {
   "cell_type": "code",
   "execution_count": 25,
   "metadata": {},
   "outputs": [
    {
     "name": "stdout",
     "output_type": "stream",
     "text": [
      "Epoch 1/10\n",
      "421/421 [==============================] - ETA: 0s - loss: 0.8509 - accuracy: 0.7082\n",
      "Epoch 00001: val_loss improved from inf to 0.39297, saving model to /home/aiffel/aiffel/speech_recognition/models/wav\n",
      "421/421 [==============================] - 62s 147ms/step - loss: 0.8509 - accuracy: 0.7082 - val_loss: 0.3930 - val_accuracy: 0.8832\n",
      "Epoch 2/10\n",
      "421/421 [==============================] - ETA: 0s - loss: 0.2618 - accuracy: 0.9161\n",
      "Epoch 00002: val_loss improved from 0.39297 to 0.16581, saving model to /home/aiffel/aiffel/speech_recognition/models/wav\n",
      "421/421 [==============================] - 61s 146ms/step - loss: 0.2618 - accuracy: 0.9161 - val_loss: 0.1658 - val_accuracy: 0.9477\n",
      "Epoch 3/10\n",
      "421/421 [==============================] - ETA: 0s - loss: 0.1813 - accuracy: 0.9414\n",
      "Epoch 00003: val_loss did not improve from 0.16581\n",
      "421/421 [==============================] - 63s 149ms/step - loss: 0.1813 - accuracy: 0.9414 - val_loss: 0.2076 - val_accuracy: 0.9300\n",
      "Epoch 4/10\n",
      "421/421 [==============================] - ETA: 0s - loss: 0.1333 - accuracy: 0.9561\n",
      "Epoch 00004: val_loss did not improve from 0.16581\n",
      "421/421 [==============================] - 65s 153ms/step - loss: 0.1333 - accuracy: 0.9561 - val_loss: 0.3036 - val_accuracy: 0.9090\n",
      "Epoch 5/10\n",
      "421/421 [==============================] - ETA: 0s - loss: 0.1096 - accuracy: 0.9633\n",
      "Epoch 00005: val_loss improved from 0.16581 to 0.12607, saving model to /home/aiffel/aiffel/speech_recognition/models/wav\n",
      "421/421 [==============================] - 62s 147ms/step - loss: 0.1096 - accuracy: 0.9633 - val_loss: 0.1261 - val_accuracy: 0.9613\n",
      "Epoch 6/10\n",
      "421/421 [==============================] - ETA: 0s - loss: 0.0920 - accuracy: 0.9687\n",
      "Epoch 00006: val_loss did not improve from 0.12607\n",
      "421/421 [==============================] - 61s 145ms/step - loss: 0.0920 - accuracy: 0.9687 - val_loss: 0.1362 - val_accuracy: 0.9552\n",
      "Epoch 7/10\n",
      "421/421 [==============================] - ETA: 0s - loss: 0.0843 - accuracy: 0.9714\n",
      "Epoch 00007: val_loss did not improve from 0.12607\n",
      "421/421 [==============================] - 61s 146ms/step - loss: 0.0843 - accuracy: 0.9714 - val_loss: 0.1341 - val_accuracy: 0.9565\n",
      "Epoch 8/10\n",
      "421/421 [==============================] - ETA: 0s - loss: 0.0729 - accuracy: 0.9744\n",
      "Epoch 00008: val_loss improved from 0.12607 to 0.11335, saving model to /home/aiffel/aiffel/speech_recognition/models/wav\n",
      "421/421 [==============================] - 62s 147ms/step - loss: 0.0729 - accuracy: 0.9744 - val_loss: 0.1133 - val_accuracy: 0.9620\n",
      "Epoch 9/10\n",
      "421/421 [==============================] - ETA: 0s - loss: 0.0658 - accuracy: 0.9780\n",
      "Epoch 00009: val_loss did not improve from 0.11335\n",
      "421/421 [==============================] - 61s 146ms/step - loss: 0.0658 - accuracy: 0.9780 - val_loss: 0.1338 - val_accuracy: 0.9592\n",
      "Epoch 10/10\n",
      "421/421 [==============================] - ETA: 0s - loss: 0.0624 - accuracy: 0.9779\n",
      "Epoch 00010: val_loss did not improve from 0.11335\n",
      "421/421 [==============================] - 64s 152ms/step - loss: 0.0624 - accuracy: 0.9779 - val_loss: 0.1608 - val_accuracy: 0.9579\n",
      "✅\n"
     ]
    }
   ],
   "source": [
    "#30분 내외 소요 (메모리 사용량에 주의해 주세요.)\n",
    "history_spec = model_spec.fit(train_dataset, epochs=max_epochs,\n",
    "                    steps_per_epoch=len(train_spec) // batch_size,\n",
    "                    validation_data=test_dataset,\n",
    "                    validation_steps=len(test_spec) // batch_size,\n",
    "                    callbacks=[cp_callback]\n",
    "                    )\n",
    "print(\"✅\")"
   ]
  },
  {
   "cell_type": "code",
   "execution_count": 27,
   "metadata": {},
   "outputs": [
    {
     "data": {
      "image/png": "[encoded data removed]",
      "text/plain": [
       "<Figure size 576x576 with 2 Axes>"
      ]
     },
     "metadata": {
      "needs_background": "light"
     },
     "output_type": "display_data"
    },
    {
     "name": "stdout",
     "output_type": "stream",
     "text": [
      "✅\n"
     ]
    }
   ],
   "source": [
    "# 학습이 어떻게 진행 됐는지 loss, accuracy 그래프로 표현\n",
    "import matplotlib.pyplot as plt\n",
    "\n",
    "acc = history_spec.history['accuracy']\n",
    "val_acc = history_spec.history['val_accuracy']\n",
    "\n",
    "loss=history_spec.history['loss']\n",
    "val_loss=history_spec.history['val_loss']\n",
    "\n",
    "epochs_range = range(len(acc))\n",
    "\n",
    "plt.figure(figsize=(8, 8))\n",
    "plt.subplot(1, 2, 1)\n",
    "plt.plot(epochs_range, acc, label='Training Accuracy')\n",
    "plt.plot(epochs_range, val_acc, label='Validation Accuracy')\n",
    "plt.legend(loc='lower right')\n",
    "plt.title('Training and Validation Accuracy')\n",
    "\n",
    "plt.subplot(1, 2, 2)\n",
    "plt.plot(epochs_range, loss, label='Training Loss')\n",
    "plt.plot(epochs_range, val_loss, label='Validation Loss')\n",
    "plt.legend(loc='upper right')\n",
    "plt.title('Training and Validation Loss')\n",
    "plt.show()\n",
    "print(\"✅\")"
   ]
  },
  {
   "cell_type": "markdown",
   "metadata": {},
   "source": [
    "## Test dataset을 이용해서 모델의 성능을 평가"
   ]
  },
  {
   "cell_type": "code",
   "execution_count": 29,
   "metadata": {},
   "outputs": [
    {
     "name": "stdout",
     "output_type": "stream",
     "text": [
      "47/47 [==============================] - 11s 239ms/step - loss: 0.1115 - accuracy: 0.9627\n"
     ]
    }
   ],
   "source": [
    "#checkpoint callback 함수가 저장한 weight를 다시 불러와서 테스트 준비\n",
    "model_spec.load_weights(checkpoint_dir)  \n",
    "\n",
    "# test data를 이용하여 모델의 예측값과 실제값이 얼마나 일치하는지 확인 \n",
    "results = model_spec.evaluate(test_dataset)"
   ]
  },
  {
   "cell_type": "code",
   "execution_count": 30,
   "metadata": {},
   "outputs": [
    {
     "name": "stdout",
     "output_type": "stream",
     "text": [
      "loss value: 0.111\n",
      "accuracy value: 96.2667%\n",
      "✅\n"
     ]
    }
   ],
   "source": [
    "# loss\n",
    "print(\"loss value: {:.3f}\".format(results[0]))\n",
    "# accuracy\n",
    "print(\"accuracy value: {:.4f}%\".format(results[1]*100))\n",
    "print(\"✅\")"
   ]
  },
  {
   "cell_type": "markdown",
   "metadata": {},
   "source": [
    "### Model Test\n",
    "- Test data set 골라 모델 예측 확인"
   ]
  },
  {
   "cell_type": "code",
   "execution_count": 47,
   "metadata": {},
   "outputs": [
    {
     "name": "stdout",
     "output_type": "stream",
     "text": [
      "label :  on\n"
     ]
    }
   ],
   "source": [
    "#Test data set을 골라 직접 들어보고 모델의 예측이 맞는지 확인\n",
    "inv_label_value = {v: k for k, v in label_value.items()}\n",
    "batch_index = np.random.choice(len(test_spec), size=1, replace=False)\n",
    "\n",
    "batch_xs = test_spec[batch_index]\n",
    "batch_ys = test_label[batch_index]\n",
    "y_pred_ = model_spec(batch_xs, training=False)\n",
    "\n",
    "print(\"label : \", str(inv_label_value[batch_ys[0]]))\n",
    "\n",
    "#ipd.Audio(batch_xs.reshape(16380,), rate=8000)"
   ]
  },
  {
   "cell_type": "code",
   "execution_count": 48,
   "metadata": {},
   "outputs": [
    {
     "name": "stdout",
     "output_type": "stream",
     "text": [
      "y_pred: on(Correct!)\n",
      "✅\n"
     ]
    }
   ],
   "source": [
    "# 테스트셋 라벨과 우리 모델의 실제 prediction 결과 비교 \n",
    "if np.argmax(y_pred_) == batch_ys[0]:\n",
    "    print(\"y_pred: \" + str(inv_label_value[np.argmax(y_pred_)]) + '(Correct!)')\n",
    "else:\n",
    "    print(\"y_pred: \" + str(inv_label_value[np.argmax(y_pred_)]) + '(Incorrect!)')\n",
    "print(\"✅\")"
   ]
  },
  {
   "cell_type": "markdown",
   "metadata": {},
   "source": [
    "# Skip-Connection model 구현  \n",
    "### 2차원 모델 구성"
   ]
  },
  {
   "cell_type": "code",
   "execution_count": 51,
   "metadata": {},
   "outputs": [
    {
     "name": "stdout",
     "output_type": "stream",
     "text": [
      "Model: \"model\"\n",
      "__________________________________________________________________________________________________\n",
      "Layer (type)                    Output Shape         Param #     Connected to                     \n",
      "==================================================================================================\n",
      "input_4 (InputLayer)            [(None, 130, 126, 1) 0                                            \n",
      "__________________________________________________________________________________________________\n",
      "conv2d_14 (Conv2D)              (None, 130, 126, 32) 2624        input_4[0][0]                    \n",
      "__________________________________________________________________________________________________\n",
      "conv2d_15 (Conv2D)              (None, 130, 126, 32) 82976       conv2d_14[0][0]                  \n",
      "__________________________________________________________________________________________________\n",
      "max_pooling2d_5 (MaxPooling2D)  (None, 65, 63, 32)   0           conv2d_15[0][0]                  \n",
      "__________________________________________________________________________________________________\n",
      "conv2d_16 (Conv2D)              (None, 65, 63, 64)   165952      max_pooling2d_5[0][0]            \n",
      "__________________________________________________________________________________________________\n",
      "conv2d_17 (Conv2D)              (None, 65, 63, 64)   331840      conv2d_16[0][0]                  \n",
      "__________________________________________________________________________________________________\n",
      "tf_op_layer_concat_1 (TensorFlo [(None, 65, 63, 96)] 0           conv2d_17[0][0]                  \n",
      "                                                                 max_pooling2d_5[0][0]            \n",
      "__________________________________________________________________________________________________\n",
      "max_pooling2d_6 (MaxPooling2D)  (None, 32, 31, 96)   0           tf_op_layer_concat_1[0][0]       \n",
      "__________________________________________________________________________________________________\n",
      "conv2d_18 (Conv2D)              (None, 32, 31, 128)  995456      max_pooling2d_6[0][0]            \n",
      "__________________________________________________________________________________________________\n",
      "conv2d_19 (Conv2D)              (None, 32, 31, 128)  1327232     conv2d_18[0][0]                  \n",
      "__________________________________________________________________________________________________\n",
      "conv2d_20 (Conv2D)              (None, 32, 31, 128)  1327232     conv2d_19[0][0]                  \n",
      "__________________________________________________________________________________________________\n",
      "tf_op_layer_concat_2 (TensorFlo [(None, 32, 31, 224) 0           conv2d_20[0][0]                  \n",
      "                                                                 max_pooling2d_6[0][0]            \n",
      "__________________________________________________________________________________________________\n",
      "max_pooling2d_7 (MaxPooling2D)  (None, 16, 15, 224)  0           tf_op_layer_concat_2[0][0]       \n",
      "__________________________________________________________________________________________________\n",
      "conv2d_21 (Conv2D)              (None, 16, 15, 256)  4645120     max_pooling2d_7[0][0]            \n",
      "__________________________________________________________________________________________________\n",
      "conv2d_22 (Conv2D)              (None, 16, 15, 256)  5308672     conv2d_21[0][0]                  \n",
      "__________________________________________________________________________________________________\n",
      "conv2d_23 (Conv2D)              (None, 16, 15, 256)  5308672     conv2d_22[0][0]                  \n",
      "__________________________________________________________________________________________________\n",
      "tf_op_layer_concat_3 (TensorFlo [(None, 16, 15, 480) 0           conv2d_23[0][0]                  \n",
      "                                                                 max_pooling2d_7[0][0]            \n",
      "__________________________________________________________________________________________________\n",
      "max_pooling2d_8 (MaxPooling2D)  (None, 8, 7, 480)    0           tf_op_layer_concat_3[0][0]       \n",
      "__________________________________________________________________________________________________\n",
      "dropout_2 (Dropout)             (None, 8, 7, 480)    0           max_pooling2d_8[0][0]            \n",
      "__________________________________________________________________________________________________\n",
      "flatten_2 (Flatten)             (None, 26880)        0           dropout_2[0][0]                  \n",
      "__________________________________________________________________________________________________\n",
      "dense_4 (Dense)                 (None, 256)          6881536     flatten_2[0][0]                  \n",
      "__________________________________________________________________________________________________\n",
      "batch_normalization_2 (BatchNor (None, 256)          1024        dense_4[0][0]                    \n",
      "__________________________________________________________________________________________________\n",
      "activation_2 (Activation)       (None, 256)          0           batch_normalization_2[0][0]      \n",
      "__________________________________________________________________________________________________\n",
      "dense_5 (Dense)                 (None, 12)           3084        activation_2[0][0]               \n",
      "==================================================================================================\n",
      "Total params: 26,381,420\n",
      "Trainable params: 26,380,908\n",
      "Non-trainable params: 512\n",
      "__________________________________________________________________________________________________\n"
     ]
    }
   ],
   "source": [
    "input_tensor = layers.Input(shape=(130,126 ,1))\n",
    "\n",
    "x = layers.Conv2D(32, 9, padding='same', activation='relu')(input_tensor)\n",
    "x = layers.Conv2D(32, 9, padding='same', activation='relu')(x)\n",
    "skip_1 = layers.MaxPool2D()(x)\n",
    "\n",
    "x = layers.Conv2D(64, 9, padding='same', activation='relu')(skip_1)\n",
    "x = layers.Conv2D(64, 9, padding='same', activation='relu')(x)\n",
    "x = tf.concat([x, skip_1], -1)\n",
    "skip_2 = layers.MaxPool2D()(x)\n",
    "\n",
    "x = layers.Conv2D(128, 9, padding='same', activation='relu')(skip_2)\n",
    "x = layers.Conv2D(128, 9, padding='same', activation='relu')(x)\n",
    "x = layers.Conv2D(128, 9, padding='same', activation='relu')(x)\n",
    "x = tf.concat([x, skip_2], -1)\n",
    "skip_3 = layers.MaxPool2D()(x)\n",
    "\n",
    "x = layers.Conv2D(256, 9, padding='same', activation='relu')(skip_3)\n",
    "x = layers.Conv2D(256, 9, padding='same', activation='relu')(x)\n",
    "x = layers.Conv2D(256, 9, padding='same', activation='relu')(x)\n",
    "x = tf.concat([x, skip_3], -1)\n",
    "x = layers.MaxPool2D()(x)\n",
    "x = layers.Dropout(0.3)(x)\n",
    "\n",
    "x = layers.Flatten()(x)\n",
    "x = layers.Dense(256)(x)\n",
    "x = layers.BatchNormalization()(x)\n",
    "x = layers.Activation('relu')(x)\n",
    "\n",
    "output_tensor = layers.Dense(12)(x)\n",
    "\n",
    "model_spec_skip = tf.keras.Model(input_tensor, output_tensor)\n",
    "\n",
    "model_spec_skip.summary()"
   ]
  },
  {
   "cell_type": "code",
   "execution_count": 52,
   "metadata": {},
   "outputs": [
    {
     "name": "stdout",
     "output_type": "stream",
     "text": [
      "✅\n"
     ]
    }
   ],
   "source": [
    "# 12개 단어 class 구분하는 Loss/Adam optimizer 사용\n",
    "optimizer=tf.keras.optimizers.Adam(1e-4)\n",
    "model_spec_skip.compile(loss=tf.keras.losses.CategoricalCrossentropy(from_logits=True),\n",
    "             optimizer=optimizer,\n",
    "             metrics=['accuracy'])\n",
    "print(\"✅\")"
   ]
  },
  {
   "cell_type": "code",
   "execution_count": 53,
   "metadata": {},
   "outputs": [
    {
     "name": "stdout",
     "output_type": "stream",
     "text": [
      "✅\n"
     ]
    }
   ],
   "source": [
    "# the save point\n",
    "# 모델 가중치 저장하는 checkpoint callback 함수 추가\n",
    "import os\n",
    "import tensorflow as tf\n",
    "checkpoint_dir = os.getenv('HOME')+'/aiffel/speech_recognition/models/wav_skip'\n",
    "\n",
    "cp_callback = tf.keras.callbacks.ModelCheckpoint(checkpoint_dir,\n",
    "                                                 save_weights_only=True,\n",
    "                                                 monitor='val_loss',\n",
    "                                                 mode='auto',\n",
    "                                                 save_best_only=True,\n",
    "                                                 verbose=1)\n",
    "print(\"✅\")"
   ]
  },
  {
   "cell_type": "code",
   "execution_count": 55,
   "metadata": {},
   "outputs": [
    {
     "name": "stdout",
     "output_type": "stream",
     "text": [
      "Epoch 1/10\n",
      "421/421 [==============================] - ETA: 0s - loss: 0.9360 - accuracy: 0.6876\n",
      "Epoch 00001: val_loss improved from inf to 0.53444, saving model to /home/aiffel/aiffel/speech_recognition/models/wav_skip\n",
      "421/421 [==============================] - 66s 158ms/step - loss: 0.9360 - accuracy: 0.6876 - val_loss: 0.5344 - val_accuracy: 0.8200\n",
      "Epoch 2/10\n",
      "421/421 [==============================] - ETA: 0s - loss: 0.2419 - accuracy: 0.9234\n",
      "Epoch 00002: val_loss improved from 0.53444 to 0.22263, saving model to /home/aiffel/aiffel/speech_recognition/models/wav_skip\n",
      "421/421 [==============================] - 67s 159ms/step - loss: 0.2419 - accuracy: 0.9234 - val_loss: 0.2226 - val_accuracy: 0.9246\n",
      "Epoch 3/10\n",
      "421/421 [==============================] - ETA: 0s - loss: 0.1510 - accuracy: 0.9532\n",
      "Epoch 00003: val_loss did not improve from 0.22263\n",
      "421/421 [==============================] - 67s 160ms/step - loss: 0.1510 - accuracy: 0.9532 - val_loss: 0.2324 - val_accuracy: 0.9287\n",
      "Epoch 4/10\n",
      "421/421 [==============================] - ETA: 0s - loss: 0.1062 - accuracy: 0.9652\n",
      "Epoch 00004: val_loss improved from 0.22263 to 0.18124, saving model to /home/aiffel/aiffel/speech_recognition/models/wav_skip\n",
      "421/421 [==============================] - 68s 161ms/step - loss: 0.1062 - accuracy: 0.9652 - val_loss: 0.1812 - val_accuracy: 0.9423\n",
      "Epoch 5/10\n",
      "421/421 [==============================] - ETA: 0s - loss: 0.0885 - accuracy: 0.9706\n",
      "Epoch 00005: val_loss improved from 0.18124 to 0.13871, saving model to /home/aiffel/aiffel/speech_recognition/models/wav_skip\n",
      "421/421 [==============================] - 68s 162ms/step - loss: 0.0885 - accuracy: 0.9706 - val_loss: 0.1387 - val_accuracy: 0.9558\n",
      "Epoch 6/10\n",
      "421/421 [==============================] - ETA: 0s - loss: 0.0693 - accuracy: 0.9773\n",
      "Epoch 00006: val_loss improved from 0.13871 to 0.12271, saving model to /home/aiffel/aiffel/speech_recognition/models/wav_skip\n",
      "421/421 [==============================] - 68s 162ms/step - loss: 0.0693 - accuracy: 0.9773 - val_loss: 0.1227 - val_accuracy: 0.9586\n",
      "Epoch 7/10\n",
      "421/421 [==============================] - ETA: 0s - loss: 0.0677 - accuracy: 0.9770\n",
      "Epoch 00007: val_loss did not improve from 0.12271\n",
      "421/421 [==============================] - 68s 160ms/step - loss: 0.0677 - accuracy: 0.9770 - val_loss: 0.1309 - val_accuracy: 0.9606\n",
      "Epoch 8/10\n",
      "421/421 [==============================] - ETA: 0s - loss: 0.0585 - accuracy: 0.9806\n",
      "Epoch 00008: val_loss did not improve from 0.12271\n",
      "421/421 [==============================] - 68s 161ms/step - loss: 0.0585 - accuracy: 0.9806 - val_loss: 0.1449 - val_accuracy: 0.9565\n",
      "Epoch 9/10\n",
      "421/421 [==============================] - ETA: 0s - loss: 0.0502 - accuracy: 0.9834\n",
      "Epoch 00009: val_loss did not improve from 0.12271\n",
      "421/421 [==============================] - 68s 161ms/step - loss: 0.0502 - accuracy: 0.9834 - val_loss: 0.2559 - val_accuracy: 0.9334\n",
      "Epoch 10/10\n",
      "421/421 [==============================] - ETA: 0s - loss: 0.0502 - accuracy: 0.9838\n",
      "Epoch 00010: val_loss improved from 0.12271 to 0.11947, saving model to /home/aiffel/aiffel/speech_recognition/models/wav_skip\n",
      "421/421 [==============================] - 68s 163ms/step - loss: 0.0502 - accuracy: 0.9838 - val_loss: 0.1195 - val_accuracy: 0.9640\n",
      "✅\n"
     ]
    }
   ],
   "source": [
    "#30분 내외 소요\n",
    "\n",
    "history_spec_skip = model_spec_skip.fit(train_dataset, epochs=max_epochs,\n",
    "                    steps_per_epoch=len(train_spec) // batch_size,\n",
    "                    validation_data=test_dataset,\n",
    "                    validation_steps=len(test_spec) // batch_size,\n",
    "                    callbacks=[cp_callback]\n",
    "                    )\n",
    "\n",
    "print(\"✅\")"
   ]
  },
  {
   "cell_type": "markdown",
   "metadata": {},
   "source": [
    "### 학습이 어떻게 진행 됐는지 loss, accuracy 그래프로 표현"
   ]
  },
  {
   "cell_type": "code",
   "execution_count": 56,
   "metadata": {},
   "outputs": [
    {
     "data": {
      "image/png": "[encoded data removed]",
      "text/plain": [
       "<Figure size 576x576 with 2 Axes>"
      ]
     },
     "metadata": {
      "needs_background": "light"
     },
     "output_type": "display_data"
    },
    {
     "name": "stdout",
     "output_type": "stream",
     "text": [
      "✅\n"
     ]
    }
   ],
   "source": [
    "import matplotlib.pyplot as plt\n",
    "\n",
    "acc = history_spec_skip.history['accuracy']\n",
    "val_acc = history_spec_skip.history['val_accuracy']\n",
    "\n",
    "loss=history_spec_skip.history['loss']\n",
    "val_loss=history_spec_skip.history['val_loss']\n",
    "\n",
    "epochs_range = range(len(acc))\n",
    "\n",
    "plt.figure(figsize=(8, 8))\n",
    "plt.subplot(1, 2, 1)\n",
    "plt.plot(epochs_range, acc, label='Training Accuracy')\n",
    "plt.plot(epochs_range, val_acc, label='Validation Accuracy')\n",
    "plt.legend(loc='lower right')\n",
    "plt.title('Training and Validation Accuracy')\n",
    "\n",
    "plt.subplot(1, 2, 2)\n",
    "plt.plot(epochs_range, loss, label='Training Loss')\n",
    "plt.plot(epochs_range, val_loss, label='Validation Loss')\n",
    "plt.legend(loc='upper right')\n",
    "plt.title('Training and Validation Loss')\n",
    "plt.show()\n",
    "print(\"✅\")"
   ]
  },
  {
   "cell_type": "markdown",
   "metadata": {},
   "source": [
    " ### Test dataset을 이용해서 모델의 성능을 평가"
   ]
  },
  {
   "cell_type": "code",
   "execution_count": 57,
   "metadata": {},
   "outputs": [
    {
     "name": "stdout",
     "output_type": "stream",
     "text": [
      "47/47 [==============================] - 5s 99ms/step - loss: 0.1180 - accuracy: 0.9640\n",
      "loss value: 0.118\n",
      "accuracy value: 96.4000%\n",
      "✅\n"
     ]
    }
   ],
   "source": [
    "# Evaluation \n",
    "\n",
    "model_spec_skip.load_weights(checkpoint_dir)\n",
    "results = model_spec_skip.evaluate(test_dataset)\n",
    "\n",
    "# loss\n",
    "print(\"loss value: {:.3f}\".format(results[0]))\n",
    "# accuracy\n",
    "print(\"accuracy value: {:.4f}%\".format(results[1]*100))\n",
    "print(\"✅\")"
   ]
  },
  {
   "cell_type": "code",
   "execution_count": 59,
   "metadata": {},
   "outputs": [
    {
     "name": "stdout",
     "output_type": "stream",
     "text": [
      "label :  go\n"
     ]
    }
   ],
   "source": [
    "# Test \n",
    "\n",
    "inv_label_value = {v: k for k, v in label_value.items()}\n",
    "batch_index = np.random.choice(len(test_spec), size=1, replace=False)\n",
    "\n",
    "batch_xs = test_spec[batch_index]\n",
    "batch_ys = test_label[batch_index]\n",
    "y_pred_ = model_spec_skip(batch_xs, training=False)\n",
    "\n",
    "print(\"label : \", str(inv_label_value[batch_ys[0]]))\n",
    "\n",
    "#ipd.Audio(batch_xs.reshape(8000,), rate=8000)"
   ]
  },
  {
   "cell_type": "code",
   "execution_count": 60,
   "metadata": {},
   "outputs": [
    {
     "name": "stdout",
     "output_type": "stream",
     "text": [
      "y_pred: go(Correct!)\n",
      "✅\n"
     ]
    }
   ],
   "source": [
    "if np.argmax(y_pred_) == batch_ys[0]:\n",
    "    print(\"y_pred: \" + str(inv_label_value[np.argmax(y_pred_)]) + '(Correct!)')\n",
    "else:\n",
    "    print(\"y_pred: \" + str(inv_label_value[np.argmax(y_pred_)]) + '(Incorrect!)')\n",
    "print(\"✅\")"
   ]
  },
  {
   "cell_type": "markdown",
   "metadata": {},
   "source": [
    "---\n",
    "## 루브릭 평가 요구사항  \n",
    "  \n",
    "### 1) 음성데이터를 2차원 Spectrogram 으로 변환하여 스펙트로그램 시각화 및 train/test 데이터셋을 구성하였다.\n",
    "- wav2spec 함수를 이용하여 1차원 Waveform 데이터를 2차원 Spectrogram 데이터로 변환하였으며, shape도 변화시켜 주었다.  \n",
    "\n",
    "### 2)  스펙트로그램을 입력받은 모델이 학습과정에서 안정적으로 수렴하며, evaluation/test 단계가 정상 작동한다.\n",
    "-  스펙트로그램 모델 학습 후 loss와 accuracy 그래프를 보고 train과 validation의 차이가 크지 않고, accuracy도 96% 이상으로 나타났다.\n",
    "\n",
    "### 3) 테스트셋 수행결과 음성인식 모델의 Accuracy가 75% 이상의 정확도를 달성하였다.\n",
    "- 테스트셋 수행 결과 음성인식 모델의 accuracy가 두가지 모델 모두 96%이상 나타났다."
   ]
  },
  {
   "cell_type": "markdown",
   "metadata": {},
   "source": [
    "---\n",
    "# 회고  \n",
    "\n",
    "가장 먼저 프로젝트를 진행하며 음성데이터 train을 하는데에 있어 시간이 너무 오래 걸린다는 것이 단점이였다. 한번 오류가 나면 다시 오래걸리는 train을 진행해야하니 많이 지치기도 하였다. spec_data를 append하는 과정에서 커널이 계속 끊겨 입력 데이터셋을 15000까지 줄이게 되었다. 데이터양을 줄이니 확실히 training 시간도 줄긴 했지만, 올바른 모델로 평가할 수 있을지는 의문이였다. 최종적으로 두가지 모델 모두 96%이상 정확도가 나타나긴 했지만, 궁금증이 투성이였던 프로젝트라 이후 코드에 대하여 더 자세히 공부해보아야겠다.\n",
    "\n",
    "---"
   ]
  }
 ],
 "metadata": {
  "kernelspec": {
   "display_name": "aiffel",
   "language": "python",
   "name": "aiffel"
  },
  "language_info": {
   "codemirror_mode": {
    "name": "ipython",
    "version": 3
   },
   "file_extension": ".py",
   "mimetype": "text/x-python",
   "name": "python",
   "nbconvert_exporter": "python",
   "pygments_lexer": "ipython3",
   "version": "3.7.9"
  }
 },
 "nbformat": 4,
 "nbformat_minor": 4
}
