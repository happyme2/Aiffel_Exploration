{
 "cells": [
  {
   "cell_type": "markdown",
   "metadata": {},
   "source": [
    "# EXPLO 2 분류   \n",
    "## *  load_digit 손글씨\n",
    "\n",
    "### 1) Decision Tree 모델"
   ]
  },
  {
   "cell_type": "code",
   "execution_count": 11,
   "metadata": {
    "scrolled": true
   },
   "outputs": [
    {
     "name": "stdout",
     "output_type": "stream",
     "text": [
      "              precision    recall  f1-score   support\n",
      "\n",
      "           0       1.00      0.98      0.99        43\n",
      "           1       0.81      0.81      0.81        42\n",
      "           2       0.79      0.82      0.80        40\n",
      "           3       0.79      0.91      0.85        34\n",
      "           4       0.83      0.95      0.89        37\n",
      "           5       0.90      0.96      0.93        28\n",
      "           6       0.84      0.93      0.88        28\n",
      "           7       0.96      0.82      0.89        33\n",
      "           8       0.88      0.65      0.75        43\n",
      "           9       0.78      0.78      0.78        32\n",
      "\n",
      "    accuracy                           0.86       360\n",
      "   macro avg       0.86      0.86      0.86       360\n",
      "weighted avg       0.86      0.86      0.85       360\n",
      "\n"
     ]
    }
   ],
   "source": [
    "#(1) 필요한 모듈 import 하기\n",
    "from sklearn.datasets import load_digits\n",
    "from sklearn.model_selection import train_test_split\n",
    "from sklearn.tree import DecisionTreeClassifier\n",
    "from sklearn.metrics import classification_report\n",
    "\n",
    "#(2) 데이터 준비\n",
    "digits = load_digits()\n",
    "digits_data = digits.data\n",
    "digits_label = digits.target\n",
    "\n",
    "#(3) 데이터 이해하기 \n",
    "# feature data 지정, Label data 지정, target names 출력, 데이터 describe\n",
    "#2-3\n",
    "#feature data\n",
    "#label data\n",
    "#target names\n",
    "\n",
    "\n",
    "\n",
    "#(4) train, test 데이터 분리 \n",
    "# 모델 학습과 테스트용 문제지와 정답지 준비 \n",
    "X_train, X_test, y_train, y_test = train_test_split (digits_data,\n",
    "                                                    digits_label,\n",
    "                                                    test_size = 0.2,\n",
    "                                                    random_state=7)\n",
    "\n",
    "#(5) 모델 학습 - X_train, y_train 활용하여 분류기 모델 만들기 / 성능 체크\n",
    "decision_tree = DecisionTreeClassifier(random_state = 32)\n",
    "decision_tree.fit(X_train,y_train)\n",
    "y_pred= decision_tree.predict(X_test)\n",
    "\n",
    "print(classification_report(y_test,y_pred))"
   ]
  },
  {
   "cell_type": "markdown",
   "metadata": {},
   "source": [
    "---\n",
    "### 2) Random Forest 모델"
   ]
  },
  {
   "cell_type": "code",
   "execution_count": null,
   "metadata": {},
   "outputs": [],
   "source": []
  }
 ],
 "metadata": {
  "kernelspec": {
   "display_name": "aiffel",
   "language": "python",
   "name": "aiffel"
  },
  "language_info": {
   "codemirror_mode": {
    "name": "ipython",
    "version": 3
   },
   "file_extension": ".py",
   "mimetype": "text/x-python",
   "name": "python",
   "nbconvert_exporter": "python",
   "pygments_lexer": "ipython3",
   "version": "3.7.9"
  }
 },
 "nbformat": 4,
 "nbformat_minor": 4
}
