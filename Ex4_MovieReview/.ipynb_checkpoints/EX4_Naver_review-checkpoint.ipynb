{
 "cells": [
  {
   "cell_type": "markdown",
   "metadata": {},
   "source": [
    "# [Ex5] 네이버 영화리뷰 감성분석"
   ]
  },
  {
   "cell_type": "markdown",
   "metadata": {},
   "source": [
    "## 데이터 준비와 확인"
   ]
  },
  {
   "cell_type": "code",
   "execution_count": 2,
   "metadata": {},
   "outputs": [
    {
     "data": {
      "text/html": [
       "<div>\n",
       "<style scoped>\n",
       "    .dataframe tbody tr th:only-of-type {\n",
       "        vertical-align: middle;\n",
       "    }\n",
       "\n",
       "    .dataframe tbody tr th {\n",
       "        vertical-align: top;\n",
       "    }\n",
       "\n",
       "    .dataframe thead th {\n",
       "        text-align: right;\n",
       "    }\n",
       "</style>\n",
       "<table border=\"1\" class=\"dataframe\">\n",
       "  <thead>\n",
       "    <tr style=\"text-align: right;\">\n",
       "      <th></th>\n",
       "      <th>id</th>\n",
       "      <th>document</th>\n",
       "      <th>label</th>\n",
       "    </tr>\n",
       "  </thead>\n",
       "  <tbody>\n",
       "    <tr>\n",
       "      <th>0</th>\n",
       "      <td>9976970</td>\n",
       "      <td>아 더빙.. 진짜 짜증나네요 목소리</td>\n",
       "      <td>0</td>\n",
       "    </tr>\n",
       "    <tr>\n",
       "      <th>1</th>\n",
       "      <td>3819312</td>\n",
       "      <td>흠...포스터보고 초딩영화줄....오버연기조차 가볍지 않구나</td>\n",
       "      <td>1</td>\n",
       "    </tr>\n",
       "    <tr>\n",
       "      <th>2</th>\n",
       "      <td>10265843</td>\n",
       "      <td>너무재밓었다그래서보는것을추천한다</td>\n",
       "      <td>0</td>\n",
       "    </tr>\n",
       "    <tr>\n",
       "      <th>3</th>\n",
       "      <td>9045019</td>\n",
       "      <td>교도소 이야기구먼 ..솔직히 재미는 없다..평점 조정</td>\n",
       "      <td>0</td>\n",
       "    </tr>\n",
       "    <tr>\n",
       "      <th>4</th>\n",
       "      <td>6483659</td>\n",
       "      <td>사이몬페그의 익살스런 연기가 돋보였던 영화!스파이더맨에서 늙어보이기만 했던 커스틴 ...</td>\n",
       "      <td>1</td>\n",
       "    </tr>\n",
       "  </tbody>\n",
       "</table>\n",
       "</div>"
      ],
      "text/plain": [
       "         id                                           document  label\n",
       "0   9976970                                아 더빙.. 진짜 짜증나네요 목소리      0\n",
       "1   3819312                  흠...포스터보고 초딩영화줄....오버연기조차 가볍지 않구나      1\n",
       "2  10265843                                  너무재밓었다그래서보는것을추천한다      0\n",
       "3   9045019                      교도소 이야기구먼 ..솔직히 재미는 없다..평점 조정      0\n",
       "4   6483659  사이몬페그의 익살스런 연기가 돋보였던 영화!스파이더맨에서 늙어보이기만 했던 커스틴 ...      1"
      ]
     },
     "execution_count": 2,
     "metadata": {},
     "output_type": "execute_result"
    }
   ],
   "source": [
    "import pandas as pd\n",
    "import urllib.request\n",
    "%matplotlib inline\n",
    "import matplotlib.pyplot as plt\n",
    "import re\n",
    "from konlpy.tag import Okt            # 앞서 konlpy 다운 받기!!! + Mecab도\n",
    "from tensorflow import keras\n",
    "from tensorflow.keras.preprocessing.text import Tokenizer\n",
    "import numpy as np\n",
    "from tensorflow.keras.preprocessing.sequence import pad_sequences\n",
    "from collections import Counter\n",
    "\n",
    "# 데이터를 읽어봅시다. \n",
    "train_data = pd.read_table('~/aiffel/sentiment_classification/ratings_train.txt')\n",
    "test_data = pd.read_table('~/aiffel/sentiment_classification/ratings_test.txt')\n",
    "\n",
    "train_data.head()"
   ]
  },
  {
   "cell_type": "markdown",
   "metadata": {},
   "source": [
    "## 데이터로더 구성\n",
    "+ 데이터의 중복 제거\n",
    "+ NaN 결측치 제거\n",
    "+ 한국어 토크나이저로 토큰화\n",
    "+ 불용어(Stopwords) 제거\n",
    "+ 사전word_to_index 구성\n",
    "+ 텍스트 스트링을 사전 인덱스 스트링으로 변환\n",
    "+ X_train, y_train, X_test, y_test, word_to_index 리턴"
   ]
  },
  {
   "cell_type": "code",
   "execution_count": 3,
   "metadata": {},
   "outputs": [],
   "source": [
    "from konlpy.tag import Mecab\n",
    "tokenizer = Mecab()\n",
    "stopwords = ['의','가','이','은','들','는','좀','잘','걍','과','도','를','으로','자','에','와','한','하다']\n",
    "\n",
    "def load_data(train_data, test_data, num_words=10000):\n",
    "    # 중복 되는 단어 제거\n",
    "    train_data.drop_duplicates(subset=['document'], inplace=True)\n",
    "    train_data = train_data.dropna(how = 'any') \n",
    "    test_data.drop_duplicates(subset=['document'], inplace=True)\n",
    "    test_data = test_data.dropna(how = 'any') \n",
    "\n",
    "    X_train = []\n",
    "    for sentence in train_data['document']:\n",
    "        temp_X = tokenizer.morphs(sentence) # 토큰화\n",
    "        temp_X = [word for word in temp_X if not word in stopwords] # 불용어 제거\n",
    "        X_train.append(temp_X)\n",
    "\n",
    "    X_test = []\n",
    "    for sentence in test_data['document']:\n",
    "        temp_X = tokenizer.morphs(sentence) # 토큰화\n",
    "        temp_X = [word for word in temp_X if not word in stopwords] # 불용어 제거\n",
    "        X_test.append(temp_X)\n",
    "\n",
    "    words = np.concatenate(X_train).tolist()\n",
    "    counter = Counter(words)\n",
    "    counter = counter.most_common(10000-4)\n",
    "    vocab = ['<PAD>', '<BOS>', '<UNK>', '<UNUSED>'] + [key for key, _ in counter]\n",
    "    word_to_index = {word:index for index, word in enumerate(vocab)}\n",
    "\n",
    "    def wordlist_to_indexlist(wordlist): #사전word_to_index 구성\n",
    "        return [word_to_index[word] if word in word_to_index else word_to_index['<UNK>'] for word in wordlist]\n",
    "\n",
    "    X_train = list(map(wordlist_to_indexlist, X_train))\n",
    "    X_test = list(map(wordlist_to_indexlist, X_test))\n",
    "\n",
    "    return X_train, np.array(list(train_data['label'])), X_test, np.array(list(test_data['label'])), word_to_index\n",
    "\n",
    "X_train, y_train, X_test, y_test, word_to_index = load_data(train_data, test_data)\n"
   ]
  },
  {
   "cell_type": "code",
   "execution_count": 4,
   "metadata": {},
   "outputs": [],
   "source": [
    "# index_to_word 생성\n",
    "# 텍스트 데이터 -> 숫자로 바꾸기 // 딕셔너리가 {텍스트:인덱스} 구조여야 한다.\n",
    "\n",
    "index_to_word = {index:word for word, index in word_to_index.items()}"
   ]
  },
  {
   "cell_type": "code",
   "execution_count": 5,
   "metadata": {},
   "outputs": [],
   "source": [
    "# 문장 1개를 활용할 딕셔너리와 함께 주면, 단어 인덱스 리스트 벡터로 변환해 주는 함수입니다. \n",
    "# 단, 모든 문장은 <BOS>로 시작하는 것으로 합니다. \n",
    "def get_encoded_sentence(sentence, word_to_index):\n",
    "    return [word_to_index['<BOS>']]+[word_to_index[word] if word in word_to_index else word_to_index['<UNK>'] for word in sentence.split()]\n",
    "\n",
    "# 여러 개의 문장 리스트를 한꺼번에 단어 인덱스 리스트 벡터로 encode해 주는 함수입니다. \n",
    "def get_encoded_sentences(sentences, word_to_index):\n",
    "    return [get_encoded_sentence(sentence, word_to_index) for sentence in sentences]\n",
    "\n",
    "# 숫자 벡터로 encode된 문장을 원래대로 decode하는 함수입니다. \n",
    "def get_decoded_sentence(encoded_sentence, index_to_word):\n",
    "    return ' '.join(index_to_word[index] if index in index_to_word else '<UNK>' for index in encoded_sentence[1:])  #[1:]를 통해 <BOS>를 제외\n",
    "\n",
    "# 여러개의 숫자 벡터로 encode된 문장을 한꺼번에 원래대로 decode하는 함수입니다. \n",
    "def get_decoded_sentences(encoded_sentences, index_to_word):\n",
    "    return [get_decoded_sentence(encoded_sentence, index_to_word) for encoded_sentence in encoded_sentences]"
   ]
  },
  {
   "cell_type": "markdown",
   "metadata": {},
   "source": [
    "## 모델구성을 위한 데이터 분석 및 가공\n",
    "+ 데이터셋 내 문장 길이 분포\n",
    "+ 적절한 최대 문장 길이 지정\n",
    "+ keras.preprocessing.sequence.pad_sequences 을 활용한 패딩 추가\n"
   ]
  },
  {
   "cell_type": "code",
   "execution_count": 6,
   "metadata": {},
   "outputs": [
    {
     "name": "stdout",
     "output_type": "stream",
     "text": [
      "문장길이 평균 :  15.96940191154864\n",
      "문장길이 최대 :  116\n",
      "문장길이 표준편차 :  12.843571191092\n",
      "pad_sequences maxlen :  41\n",
      "전체 문장의 0.9342988343341575%가 maxlen 설정값 이내에 포함됩니다. \n"
     ]
    }
   ],
   "source": [
    "#데이터셋 내 문장 길이 분포\n",
    "total_data_text = list(X_train) + list(X_test)\n",
    "# 텍스트데이터 문장길이의 리스트를 생성한 후\n",
    "num_tokens = [len(tokens) for tokens in total_data_text]\n",
    "num_tokens = np.array(num_tokens)\n",
    "# 문장길이의 평균값, 최대값, 표준편차를 계산해 본다. \n",
    "print('문장길이 평균 : ', np.mean(num_tokens))\n",
    "print('문장길이 최대 : ', np.max(num_tokens))\n",
    "print('문장길이 표준편차 : ', np.std(num_tokens))\n",
    "\n",
    "#적절한 최대 문장 길이 지정\n",
    "# 예를들어, 최대 길이를 (평균 + 2*표준편차)로 한다면,  \n",
    "max_tokens = np.mean(num_tokens) + 2 * np.std(num_tokens)\n",
    "maxlen = int(max_tokens)\n",
    "print('pad_sequences maxlen : ', maxlen)\n",
    "print('전체 문장의 {}%가 maxlen 설정값 이내에 포함됩니다. '.format(np.sum(num_tokens < max_tokens) / len(num_tokens)))"
   ]
  },
  {
   "cell_type": "code",
   "execution_count": 7,
   "metadata": {},
   "outputs": [
    {
     "name": "stdout",
     "output_type": "stream",
     "text": [
      "(146182, 41)\n"
     ]
    }
   ],
   "source": [
    "#keras.preprocessing.sequence.pad_sequences 을 활용한 패딩 추가\n",
    "X_train = keras.preprocessing.sequence.pad_sequences(X_train,\n",
    "                                                        value=word_to_index[\"<PAD>\"],\n",
    "                                                        padding='pre', # 혹은 'post'\n",
    "                                                        maxlen=maxlen)\n",
    "\n",
    "X_test = keras.preprocessing.sequence.pad_sequences(X_test,\n",
    "                                                       value=word_to_index[\"<PAD>\"],\n",
    "                                                       padding='pre', # 혹은 'post'\n",
    "                                                       maxlen=maxlen)\n",
    "\n",
    "print(X_train.shape)"
   ]
  },
  {
   "cell_type": "markdown",
   "metadata": {},
   "source": [
    "## 모델구성 및 validation set 구성(3가지 모델)\n",
    "+ 1) LSTM\n",
    "+ 2) 1-D Convolution Neural Network(1-D CNN)\n",
    "+ 3) GlobalMaxPooling1D() \n",
    "+ 4) 한글 Word2Vec"
   ]
  },
  {
   "cell_type": "markdown",
   "metadata": {},
   "source": [
    "### 1) LSTM 모델 "
   ]
  },
  {
   "cell_type": "code",
   "execution_count": 8,
   "metadata": {},
   "outputs": [
    {
     "name": "stdout",
     "output_type": "stream",
     "text": [
      "(30000, 41)\n",
      "(30000,)\n",
      "(116182, 41)\n",
      "(116182,)\n"
     ]
    }
   ],
   "source": [
    "# validation set 30000건 분리     적절한 validataion 데이터는 몇개가 좋을까?\n",
    "x_val = X_train[:30000]   \n",
    "y_val = y_train[:30000]\n",
    "\n",
    "# validation set을 제외한 나머지 \n",
    "partial_x_train = X_train[30000:]  \n",
    "partial_y_train = y_train[30000:]\n",
    "\n",
    "print(x_val.shape)\n",
    "print(y_val.shape)\n",
    "print(partial_x_train.shape)\n",
    "print(partial_y_train.shape)"
   ]
  },
  {
   "cell_type": "code",
   "execution_count": 35,
   "metadata": {},
   "outputs": [
    {
     "name": "stdout",
     "output_type": "stream",
     "text": [
      "Model: \"LSTM\"\n",
      "_________________________________________________________________\n",
      "Layer (type)                 Output Shape              Param #   \n",
      "=================================================================\n",
      "embedding_7 (Embedding)      (None, None, 100)         1000000   \n",
      "_________________________________________________________________\n",
      "lstm_3 (LSTM)                (None, 8)                 3488      \n",
      "_________________________________________________________________\n",
      "dense_14 (Dense)             (None, 8)                 72        \n",
      "_________________________________________________________________\n",
      "dense_15 (Dense)             (None, 1)                 9         \n",
      "=================================================================\n",
      "Total params: 1,003,569\n",
      "Trainable params: 1,003,569\n",
      "Non-trainable params: 0\n",
      "_________________________________________________________________\n"
     ]
    }
   ],
   "source": [
    "vocab_size = len(index_to_word)   # 어휘 사전의 크기입니다.\n",
    "word_vector_dim = 100  # 워드 벡터의 차원수 (변경가능한 하이퍼파라미터)\n",
    "\n",
    "# model 설계 - 딥러닝 모델 코드를 직접 작성해 주세요.\n",
    "lstm_model = keras.Sequential(name=\"LSTM\")\n",
    "lstm_model.add(keras.layers.Embedding(vocab_size, word_vector_dim, input_shape=(None,)))\n",
    "lstm_model.add(keras.layers.LSTM(8))   # 가장 널리 쓰이는 RNN인 LSTM 레이어를 사용하였습니다. 이때 LSTM state 벡터의 차원수는 8로 하였습니다. (변경가능)\n",
    "lstm_model.add(keras.layers.Dense(8, activation='relu'))\n",
    "lstm_model.add(keras.layers.Dense(1, activation='sigmoid'))  # 최종 출력은 긍정/부정을 나타내는 1dim 입니다.\n",
    "\n",
    "lstm_model.summary()"
   ]
  },
  {
   "cell_type": "code",
   "execution_count": 36,
   "metadata": {},
   "outputs": [
    {
     "name": "stdout",
     "output_type": "stream",
     "text": [
      "Epoch 1/20\n",
      "227/227 [==============================] - 5s 20ms/step - loss: 0.4676 - accuracy: 0.8001 - val_loss: 0.3562 - val_accuracy: 0.8476\n",
      "Epoch 2/20\n",
      "227/227 [==============================] - 4s 19ms/step - loss: 0.3310 - accuracy: 0.8608 - val_loss: 0.3455 - val_accuracy: 0.8496\n",
      "Epoch 3/20\n",
      "227/227 [==============================] - 4s 19ms/step - loss: 0.3042 - accuracy: 0.8725 - val_loss: 0.3441 - val_accuracy: 0.8512\n",
      "Epoch 4/20\n",
      "227/227 [==============================] - 4s 17ms/step - loss: 0.2866 - accuracy: 0.8803 - val_loss: 0.3477 - val_accuracy: 0.8520\n",
      "Epoch 5/20\n",
      "227/227 [==============================] - 4s 18ms/step - loss: 0.2716 - accuracy: 0.8869 - val_loss: 0.3579 - val_accuracy: 0.8512\n",
      "Epoch 6/20\n",
      "227/227 [==============================] - 4s 18ms/step - loss: 0.2570 - accuracy: 0.8937 - val_loss: 0.3669 - val_accuracy: 0.8485\n",
      "Epoch 7/20\n",
      "227/227 [==============================] - 4s 17ms/step - loss: 0.2440 - accuracy: 0.8996 - val_loss: 0.3766 - val_accuracy: 0.8487\n",
      "Epoch 8/20\n",
      "227/227 [==============================] - 4s 17ms/step - loss: 0.2315 - accuracy: 0.9053 - val_loss: 0.3895 - val_accuracy: 0.8487\n",
      "Epoch 9/20\n",
      "227/227 [==============================] - 4s 19ms/step - loss: 0.2203 - accuracy: 0.9113 - val_loss: 0.3978 - val_accuracy: 0.8462\n",
      "Epoch 10/20\n",
      "227/227 [==============================] - 4s 17ms/step - loss: 0.2098 - accuracy: 0.9160 - val_loss: 0.4162 - val_accuracy: 0.8468\n",
      "Epoch 11/20\n",
      "227/227 [==============================] - 4s 17ms/step - loss: 0.1994 - accuracy: 0.9205 - val_loss: 0.4267 - val_accuracy: 0.8442\n",
      "Epoch 12/20\n",
      "227/227 [==============================] - 4s 17ms/step - loss: 0.1902 - accuracy: 0.9256 - val_loss: 0.4414 - val_accuracy: 0.8415\n",
      "Epoch 13/20\n",
      "227/227 [==============================] - 4s 17ms/step - loss: 0.1809 - accuracy: 0.9299 - val_loss: 0.4500 - val_accuracy: 0.8413\n",
      "Epoch 14/20\n",
      "227/227 [==============================] - 4s 17ms/step - loss: 0.1727 - accuracy: 0.9337 - val_loss: 0.4634 - val_accuracy: 0.8409\n",
      "Epoch 15/20\n",
      "227/227 [==============================] - 4s 17ms/step - loss: 0.1636 - accuracy: 0.9383 - val_loss: 0.4823 - val_accuracy: 0.8391\n",
      "Epoch 16/20\n",
      "227/227 [==============================] - 4s 18ms/step - loss: 0.1538 - accuracy: 0.9434 - val_loss: 0.4963 - val_accuracy: 0.8385\n",
      "Epoch 17/20\n",
      "227/227 [==============================] - 4s 17ms/step - loss: 0.1460 - accuracy: 0.9471 - val_loss: 0.5144 - val_accuracy: 0.8362\n",
      "Epoch 18/20\n",
      "227/227 [==============================] - 4s 17ms/step - loss: 0.1404 - accuracy: 0.9493 - val_loss: 0.5251 - val_accuracy: 0.8369\n",
      "Epoch 19/20\n",
      "227/227 [==============================] - 4s 17ms/step - loss: 0.1354 - accuracy: 0.9517 - val_loss: 0.5503 - val_accuracy: 0.8368\n",
      "Epoch 20/20\n",
      "227/227 [==============================] - 4s 17ms/step - loss: 0.1288 - accuracy: 0.9550 - val_loss: 0.5476 - val_accuracy: 0.8346\n"
     ]
    }
   ],
   "source": [
    "# 모델 학습 시작\n",
    "lstm_model.compile(optimizer='adam',loss='binary_crossentropy',metrics=['accuracy'])\n",
    "              \n",
    "epochs=20  # 몇 epoch를 훈련하면 좋을지 결과를 보면서 바꾸어 봅시다. \n",
    "\n",
    "history = lstm_model.fit(partial_x_train,\n",
    "                    partial_y_train,\n",
    "                    epochs=epochs,\n",
    "                    batch_size=512,\n",
    "                    validation_data=(x_val, y_val),\n",
    "                    verbose=1)"
   ]
  },
  {
   "cell_type": "code",
   "execution_count": 37,
   "metadata": {},
   "outputs": [
    {
     "name": "stdout",
     "output_type": "stream",
     "text": [
      "1537/1537 - 6s - loss: 0.5582 - accuracy: 0.8300\n",
      "[0.5581883788108826, 0.8299530148506165]\n"
     ]
    }
   ],
   "source": [
    "# 학습 끝난 모델을 테스트셋으로 평가하기\n",
    "lstm_results = lstm_model.evaluate(X_test,  y_test, verbose=2)\n",
    "\n",
    "print(lstm_results)"
   ]
  },
  {
   "cell_type": "markdown",
   "metadata": {},
   "source": [
    "### 2) 1-D Convolution Neural Network(1-D CNN)"
   ]
  },
  {
   "cell_type": "code",
   "execution_count": 38,
   "metadata": {},
   "outputs": [
    {
     "name": "stdout",
     "output_type": "stream",
     "text": [
      "Model: \"CNN\"\n",
      "_________________________________________________________________\n",
      "Layer (type)                 Output Shape              Param #   \n",
      "=================================================================\n",
      "embedding_8 (Embedding)      (None, None, 100)         1000000   \n",
      "_________________________________________________________________\n",
      "conv1d_6 (Conv1D)            (None, None, 16)          11216     \n",
      "_________________________________________________________________\n",
      "max_pooling1d_3 (MaxPooling1 (None, None, 16)          0         \n",
      "_________________________________________________________________\n",
      "conv1d_7 (Conv1D)            (None, None, 16)          1808      \n",
      "_________________________________________________________________\n",
      "global_max_pooling1d_4 (Glob (None, 16)                0         \n",
      "_________________________________________________________________\n",
      "dense_16 (Dense)             (None, 8)                 136       \n",
      "_________________________________________________________________\n",
      "dense_17 (Dense)             (None, 1)                 9         \n",
      "=================================================================\n",
      "Total params: 1,013,169\n",
      "Trainable params: 1,013,169\n",
      "Non-trainable params: 0\n",
      "_________________________________________________________________\n"
     ]
    }
   ],
   "source": [
    "vocab_size = len(index_to_word)   # 어휘 사전의 크기\n",
    "word_vector_dim = 100       # 단어 하나를 표현하는 임베딩 벡터의 차원수\n",
    "\n",
    "CNN_model = keras.Sequential(name=\"CNN\")\n",
    "CNN_model.add(keras.layers.Embedding(vocab_size, word_vector_dim, input_shape=(None,)))\n",
    "CNN_model.add(keras.layers.Conv1D(16, 7, activation='relu'))\n",
    "CNN_model.add(keras.layers.MaxPooling1D(5))\n",
    "CNN_model.add(keras.layers.Conv1D(16, 7, activation='relu'))\n",
    "CNN_model.add(keras.layers.GlobalMaxPooling1D())\n",
    "CNN_model.add(keras.layers.Dense(8, activation='relu'))\n",
    "CNN_model.add(keras.layers.Dense(1, activation='sigmoid'))  # 최종 출력은 긍정/부정을 나타내는 1dim 입니다.\n",
    "\n",
    "CNN_model.summary()"
   ]
  },
  {
   "cell_type": "code",
   "execution_count": 39,
   "metadata": {},
   "outputs": [
    {
     "name": "stdout",
     "output_type": "stream",
     "text": [
      "Epoch 1/20\n",
      "227/227 [==============================] - 4s 18ms/step - loss: 0.4701 - accuracy: 0.7694 - val_loss: 0.3440 - val_accuracy: 0.8494\n",
      "Epoch 2/20\n",
      "227/227 [==============================] - 4s 19ms/step - loss: 0.3118 - accuracy: 0.8682 - val_loss: 0.3282 - val_accuracy: 0.8582\n",
      "Epoch 3/20\n",
      "227/227 [==============================] - 4s 19ms/step - loss: 0.2606 - accuracy: 0.8940 - val_loss: 0.3334 - val_accuracy: 0.8569\n",
      "Epoch 4/20\n",
      "227/227 [==============================] - 4s 18ms/step - loss: 0.2082 - accuracy: 0.9203 - val_loss: 0.3508 - val_accuracy: 0.8540\n",
      "Epoch 5/20\n",
      "227/227 [==============================] - 4s 18ms/step - loss: 0.1492 - accuracy: 0.9470 - val_loss: 0.3902 - val_accuracy: 0.8500\n",
      "Epoch 6/20\n",
      "227/227 [==============================] - 4s 17ms/step - loss: 0.1016 - accuracy: 0.9668 - val_loss: 0.4519 - val_accuracy: 0.8470\n",
      "Epoch 7/20\n",
      "227/227 [==============================] - 4s 19ms/step - loss: 0.0703 - accuracy: 0.9777 - val_loss: 0.5372 - val_accuracy: 0.8424\n",
      "Epoch 8/20\n",
      "227/227 [==============================] - 4s 19ms/step - loss: 0.0504 - accuracy: 0.9850 - val_loss: 0.5881 - val_accuracy: 0.8414\n",
      "Epoch 9/20\n",
      "227/227 [==============================] - 4s 19ms/step - loss: 0.0380 - accuracy: 0.9884 - val_loss: 0.6444 - val_accuracy: 0.8404\n",
      "Epoch 10/20\n",
      "227/227 [==============================] - 4s 19ms/step - loss: 0.0292 - accuracy: 0.9913 - val_loss: 0.7218 - val_accuracy: 0.8366\n",
      "Epoch 11/20\n",
      "227/227 [==============================] - 4s 18ms/step - loss: 0.0240 - accuracy: 0.9927 - val_loss: 0.7649 - val_accuracy: 0.8379\n",
      "Epoch 12/20\n",
      "227/227 [==============================] - 5s 21ms/step - loss: 0.0205 - accuracy: 0.9937 - val_loss: 0.8101 - val_accuracy: 0.8333\n",
      "Epoch 13/20\n",
      "227/227 [==============================] - 4s 17ms/step - loss: 0.0182 - accuracy: 0.9941 - val_loss: 0.8484 - val_accuracy: 0.8335\n",
      "Epoch 14/20\n",
      "227/227 [==============================] - 4s 16ms/step - loss: 0.0159 - accuracy: 0.9950 - val_loss: 0.8901 - val_accuracy: 0.8325\n",
      "Epoch 15/20\n",
      "227/227 [==============================] - 4s 16ms/step - loss: 0.0148 - accuracy: 0.9952 - val_loss: 0.9533 - val_accuracy: 0.8334\n",
      "Epoch 16/20\n",
      "227/227 [==============================] - 4s 16ms/step - loss: 0.0157 - accuracy: 0.9948 - val_loss: 0.9983 - val_accuracy: 0.8309\n",
      "Epoch 17/20\n",
      "227/227 [==============================] - 4s 17ms/step - loss: 0.0205 - accuracy: 0.9926 - val_loss: 1.0340 - val_accuracy: 0.8293\n",
      "Epoch 18/20\n",
      "227/227 [==============================] - 4s 17ms/step - loss: 0.0305 - accuracy: 0.9890 - val_loss: 0.9589 - val_accuracy: 0.8302\n",
      "Epoch 19/20\n",
      "227/227 [==============================] - 4s 17ms/step - loss: 0.0246 - accuracy: 0.9911 - val_loss: 0.9970 - val_accuracy: 0.8286\n",
      "Epoch 20/20\n",
      "227/227 [==============================] - 4s 16ms/step - loss: 0.0153 - accuracy: 0.9945 - val_loss: 1.0672 - val_accuracy: 0.8307\n"
     ]
    }
   ],
   "source": [
    "# 모델 학습 시작\n",
    "CNN_model.compile(optimizer='adam',loss='binary_crossentropy',metrics=['accuracy'])\n",
    "              \n",
    "epochs=20  # 몇 epoch를 훈련하면 좋을지 결과를 보면서 바꾸어 봅시다. \n",
    "\n",
    "history = CNN_model.fit(partial_x_train,\n",
    "                    partial_y_train,\n",
    "                    epochs=epochs,\n",
    "                    batch_size=512,\n",
    "                    validation_data=(x_val, y_val),\n",
    "                    verbose=1)"
   ]
  },
  {
   "cell_type": "code",
   "execution_count": 40,
   "metadata": {},
   "outputs": [
    {
     "name": "stdout",
     "output_type": "stream",
     "text": [
      "1537/1537 - 4s - loss: 1.1065 - accuracy: 0.8240\n",
      "[1.1065272092819214, 0.8239518404006958]\n"
     ]
    }
   ],
   "source": [
    "# 학습 끝난 모델을 테스트셋으로 평가하기\n",
    "CNN_results = CNN_model.evaluate(X_test,  y_test, verbose=2)\n",
    "\n",
    "print(CNN_results)"
   ]
  },
  {
   "cell_type": "markdown",
   "metadata": {},
   "source": [
    "### 3)GlobalMaxPooling1D()"
   ]
  },
  {
   "cell_type": "code",
   "execution_count": 45,
   "metadata": {},
   "outputs": [
    {
     "name": "stdout",
     "output_type": "stream",
     "text": [
      "Model: \"GlabalMaxPooling1D\"\n",
      "_________________________________________________________________\n",
      "Layer (type)                 Output Shape              Param #   \n",
      "=================================================================\n",
      "embedding_10 (Embedding)     (None, None, 100)         1000000   \n",
      "_________________________________________________________________\n",
      "global_max_pooling1d_6 (Glob (None, 100)               0         \n",
      "_________________________________________________________________\n",
      "dense_20 (Dense)             (None, 8)                 808       \n",
      "_________________________________________________________________\n",
      "dense_21 (Dense)             (None, 1)                 9         \n",
      "=================================================================\n",
      "Total params: 1,000,817\n",
      "Trainable params: 1,000,817\n",
      "Non-trainable params: 0\n",
      "_________________________________________________________________\n"
     ]
    }
   ],
   "source": [
    "vocab_size = len(index_to_word)   # 어휘 사전의 크기\n",
    "word_vector_dim = 100       # 단어 하나를 표현하는 임베딩 벡터의 차원수\n",
    "\n",
    "MaxPooling1D_model = keras.Sequential(name=\"GlabalMaxPooling1D\")\n",
    "MaxPooling1D_model.add(keras.layers.Embedding(vocab_size, word_vector_dim, input_shape=(None,)))\n",
    "MaxPooling1D_model.add(keras.layers.GlobalMaxPooling1D())\n",
    "MaxPooling1D_model.add(keras.layers.Dense(8, activation='relu'))\n",
    "MaxPooling1D_model.add(keras.layers.Dense(1, activation='sigmoid'))  # 최종 출력은 긍정/부정을 나타내는 1dim 입니다.\n",
    "\n",
    "MaxPooling1D_model.summary()"
   ]
  },
  {
   "cell_type": "code",
   "execution_count": 46,
   "metadata": {},
   "outputs": [
    {
     "name": "stdout",
     "output_type": "stream",
     "text": [
      "Epoch 1/20\n",
      "227/227 [==============================] - 4s 15ms/step - loss: 0.4999 - accuracy: 0.7925 - val_loss: 0.3603 - val_accuracy: 0.8420\n",
      "Epoch 2/20\n",
      "227/227 [==============================] - 4s 16ms/step - loss: 0.3271 - accuracy: 0.8612 - val_loss: 0.3379 - val_accuracy: 0.8524\n",
      "Epoch 3/20\n",
      "227/227 [==============================] - 4s 15ms/step - loss: 0.2813 - accuracy: 0.8846 - val_loss: 0.3376 - val_accuracy: 0.8539\n",
      "Epoch 4/20\n",
      "227/227 [==============================] - 4s 16ms/step - loss: 0.2465 - accuracy: 0.9027 - val_loss: 0.3466 - val_accuracy: 0.8544\n",
      "Epoch 5/20\n",
      "227/227 [==============================] - 4s 16ms/step - loss: 0.2142 - accuracy: 0.9181 - val_loss: 0.3637 - val_accuracy: 0.8518\n",
      "Epoch 6/20\n",
      "227/227 [==============================] - 4s 16ms/step - loss: 0.1832 - accuracy: 0.9323 - val_loss: 0.3838 - val_accuracy: 0.8513\n",
      "Epoch 7/20\n",
      "227/227 [==============================] - 4s 16ms/step - loss: 0.1524 - accuracy: 0.9469 - val_loss: 0.4093 - val_accuracy: 0.8499\n",
      "Epoch 8/20\n",
      "227/227 [==============================] - 4s 16ms/step - loss: 0.1229 - accuracy: 0.9602 - val_loss: 0.4444 - val_accuracy: 0.8467\n",
      "Epoch 9/20\n",
      "227/227 [==============================] - 4s 15ms/step - loss: 0.0969 - accuracy: 0.9704 - val_loss: 0.4812 - val_accuracy: 0.8440\n",
      "Epoch 10/20\n",
      "227/227 [==============================] - 4s 16ms/step - loss: 0.0749 - accuracy: 0.9790 - val_loss: 0.5257 - val_accuracy: 0.8409\n",
      "Epoch 11/20\n",
      "227/227 [==============================] - 4s 16ms/step - loss: 0.0580 - accuracy: 0.9848 - val_loss: 0.5606 - val_accuracy: 0.8388\n",
      "Epoch 12/20\n",
      "227/227 [==============================] - 4s 16ms/step - loss: 0.0449 - accuracy: 0.9886 - val_loss: 0.6022 - val_accuracy: 0.8385\n",
      "Epoch 13/20\n",
      "227/227 [==============================] - 4s 16ms/step - loss: 0.0347 - accuracy: 0.9918 - val_loss: 0.6461 - val_accuracy: 0.8355\n",
      "Epoch 14/20\n",
      "227/227 [==============================] - 4s 16ms/step - loss: 0.0280 - accuracy: 0.9933 - val_loss: 0.6772 - val_accuracy: 0.8342\n",
      "Epoch 15/20\n",
      "227/227 [==============================] - 4s 16ms/step - loss: 0.0223 - accuracy: 0.9946 - val_loss: 0.7106 - val_accuracy: 0.8346\n",
      "Epoch 16/20\n",
      "227/227 [==============================] - 4s 19ms/step - loss: 0.0188 - accuracy: 0.9950 - val_loss: 0.7408 - val_accuracy: 0.8327\n",
      "Epoch 17/20\n",
      "227/227 [==============================] - 4s 16ms/step - loss: 0.0161 - accuracy: 0.9957 - val_loss: 0.7740 - val_accuracy: 0.8321\n",
      "Epoch 18/20\n",
      "227/227 [==============================] - 4s 16ms/step - loss: 0.0138 - accuracy: 0.9959 - val_loss: 0.7972 - val_accuracy: 0.8324\n",
      "Epoch 19/20\n",
      "227/227 [==============================] - 4s 16ms/step - loss: 0.0122 - accuracy: 0.9964 - val_loss: 0.8263 - val_accuracy: 0.8313\n",
      "Epoch 20/20\n",
      "227/227 [==============================] - 4s 16ms/step - loss: 0.0112 - accuracy: 0.9966 - val_loss: 0.8453 - val_accuracy: 0.8324\n"
     ]
    }
   ],
   "source": [
    "# 모델 학습 시작\n",
    "MaxPooling1D_model.compile(optimizer='adam',loss='binary_crossentropy',metrics=['accuracy'])\n",
    "              \n",
    "epochs=20  # 몇 epoch를 훈련하면 좋을까?\n",
    "\n",
    "history = MaxPooling1D_model.fit(partial_x_train,\n",
    "                    partial_y_train,\n",
    "                    epochs=epochs,\n",
    "                    batch_size=512,\n",
    "                    validation_data=(x_val, y_val),\n",
    "                    verbose=1)"
   ]
  },
  {
   "cell_type": "code",
   "execution_count": 47,
   "metadata": {},
   "outputs": [
    {
     "name": "stdout",
     "output_type": "stream",
     "text": [
      "1537/1537 - 2s - loss: 0.8568 - accuracy: 0.8294\n",
      "[0.8567613363265991, 0.8293834328651428]\n"
     ]
    }
   ],
   "source": [
    "# 학습 끝난 모델을 테스트셋으로 평가하기\n",
    "MaxPooling1D_results = MaxPooling1D_model.evaluate(X_test,  y_test, verbose=2)\n",
    "\n",
    "print(MaxPooling1D_results)"
   ]
  },
  {
   "cell_type": "markdown",
   "metadata": {},
   "source": [
    "- 모두 같은 조건을 가지고 모델 학습을 하여 테스트셋으로 평가하였다.\n",
    "```\n",
    "vocab_size = len(index_to_word)   # 어휘 사전의 크기\n",
    "word_vector_dim = 100       # 단어 하나를 표현하는 임베딩 벡터의 차원수\n",
    "```"
   ]
  },
  {
   "cell_type": "code",
   "execution_count": 56,
   "metadata": {},
   "outputs": [
    {
     "name": "stdout",
     "output_type": "stream",
     "text": [
      "LSTM 모델의 성능\n",
      "1537/1537 - 7s - loss: 0.5582 - accuracy: 0.8300\n",
      "CNN 모델의 성능\n",
      "1537/1537 - 4s - loss: 1.1065 - accuracy: 0.8240\n",
      "MaxPooling1D 모델의 성능\n",
      "1537/1537 - 2s - loss: 0.8568 - accuracy: 0.8294\n"
     ]
    }
   ],
   "source": [
    "print(\"LSTM 모델의 성능\")\n",
    "lstm_results = lstm_model.evaluate(X_test,  y_test, verbose=2)\n",
    "print(\"CNN 모델의 성능\")\n",
    "CNN_results = CNN_model.evaluate(X_test,  y_test, verbose=2)\n",
    "print(\"MaxPooling1D 모델의 성능\")\n",
    "MaxPooling1D_results = MaxPooling1D_model.evaluate(X_test,  y_test, verbose=2)\n"
   ]
  },
  {
   "cell_type": "markdown",
   "metadata": {},
   "source": [
    "각 모델의 accuracy를 비교하였을 때, **LSTM**의 성능이 가장 높았으며, 판단하였으며 이를 이후 학습 모델로 선정하여 성능 개선을 할 예정이다."
   ]
  },
  {
   "cell_type": "markdown",
   "metadata": {},
   "source": []
  },
  {
   "cell_type": "code",
   "execution_count": 17,
   "metadata": {},
   "outputs": [
    {
     "name": "stdout",
     "output_type": "stream",
     "text": [
      "Model: \"LSTM2\"\n",
      "_________________________________________________________________\n",
      "Layer (type)                 Output Shape              Param #   \n",
      "=================================================================\n",
      "embedding_1 (Embedding)      (None, None, 1000)        10000000  \n",
      "_________________________________________________________________\n",
      "lstm_1 (LSTM)                (None, 32)                132224    \n",
      "_________________________________________________________________\n",
      "dense_2 (Dense)              (None, 8)                 264       \n",
      "_________________________________________________________________\n",
      "dense_3 (Dense)              (None, 1)                 9         \n",
      "=================================================================\n",
      "Total params: 10,132,497\n",
      "Trainable params: 10,132,497\n",
      "Non-trainable params: 0\n",
      "_________________________________________________________________\n"
     ]
    }
   ],
   "source": [
    "vocab_size = len(index_to_word)   # 어휘 사전의 크기입니다.\n",
    "word_vector_dim = 1000  # 단어 하나를 표현하는 임베딩 벡터의 차원수(변경가능한 하이퍼파라미터)\n",
    "\n",
    "# model 설계 - 딥러닝 모델 코드를 직접 작성해 주세요.\n",
    "lstm2_model = keras.Sequential(name=\"LSTM2\")\n",
    "lstm2_model.add(keras.layers.Embedding(vocab_size, word_vector_dim, input_shape=(None,)))\n",
    "lstm2_model.add(keras.layers.LSTM(32))   # 가장 널리 쓰이는 RNN인 LSTM 레이어를 사용하였습니다. 이때 LSTM state 벡터의 차원수는 변경가능\n",
    "lstm2_model.add(keras.layers.Dense(8, activation='relu'))\n",
    "lstm2_model.add(keras.layers.Dense(1, activation='sigmoid'))  # 최종 출력은 긍정/부정을 나타내는 1dim 입니다.\n",
    "\n",
    "lstm2_model.summary()"
   ]
  },
  {
   "cell_type": "code",
   "execution_count": 18,
   "metadata": {},
   "outputs": [],
   "source": [
    "\n",
    "# 오버피팅 없애기\n",
    "from tensorflow.keras.callbacks import EarlyStopping\n",
    "from tensorflow.keras.callbacks import ModelCheckpoint\n",
    "\n",
    "es = EarlyStopping(monitor='val_loss', mode='min', verbose=1, patience=3)\n",
    "     #validataion set의 loss를 monitoring 한다\n",
    "     #performance measuer(어떤 성능을 모니터링 할것인가?) 를 최소화 시켜야하는 training이다.\n",
    "     #verbose=1 : 언제 keras에서 training을 멈추었는지 화면에 출력\n",
    "     #patience : 성능이 더이상 증가하지 않은 epoch를 몇 번이나 허용할 것인가?\n",
    "    \n",
    "mc = ModelCheckpoint('best_model.h5', monitor='val_loss', mode='min', save_best_only=True)\n",
    "\n",
    " #EarlyStopping 객체에 의해 training이 중지되었을 때, validation performance가 가장 높았던 모델 선정\n",
    "\n"
   ]
  },
  {
   "cell_type": "code",
   "execution_count": 20,
   "metadata": {},
   "outputs": [
    {
     "name": "stdout",
     "output_type": "stream",
     "text": [
      "Epoch 1/20\n",
      "454/454 [==============================] - 57s 126ms/step - loss: 0.3902 - accuracy: 0.8261 - val_loss: 0.3356 - val_accuracy: 0.8548\n",
      "Epoch 2/20\n",
      "454/454 [==============================] - 57s 125ms/step - loss: 0.2949 - accuracy: 0.8749 - val_loss: 0.3301 - val_accuracy: 0.8588\n",
      "Epoch 3/20\n",
      "454/454 [==============================] - 55s 122ms/step - loss: 0.2487 - accuracy: 0.8964 - val_loss: 0.3370 - val_accuracy: 0.8606\n",
      "Epoch 4/20\n",
      "454/454 [==============================] - 60s 131ms/step - loss: 0.2061 - accuracy: 0.9163 - val_loss: 0.3643 - val_accuracy: 0.8578\n",
      "Epoch 5/20\n",
      "454/454 [==============================] - 59s 130ms/step - loss: 0.1690 - accuracy: 0.9344 - val_loss: 0.3855 - val_accuracy: 0.8563\n",
      "Epoch 00005: early stopping\n"
     ]
    }
   ],
   "source": [
    "# 모델 학습 시작\n",
    "lstm2_model.compile(optimizer='adam',loss='binary_crossentropy',metrics=['accuracy'])\n",
    "              \n",
    "epochs=20  # 몇 epoch를 훈련하면 좋을지 결과를 보면서 바꾸어 봅시다. \n",
    "\n",
    "history = lstm2_model.fit(partial_x_train,\n",
    "                    partial_y_train,\n",
    "                    epochs=epochs,\n",
    "                    batch_size=256,\n",
    "                    validation_data=(x_val, y_val),\n",
    "                    verbose=1,\n",
    "                    callbacks=[es,mc])\n"
   ]
  },
  {
   "cell_type": "code",
   "execution_count": 21,
   "metadata": {},
   "outputs": [
    {
     "name": "stdout",
     "output_type": "stream",
     "text": [
      "1537/1537 - 6s - loss: 0.3895 - accuracy: 0.8531\n",
      "[0.38945603370666504, 0.8530829548835754]\n"
     ]
    }
   ],
   "source": [
    "# 학습 끝난 모델을 테스트셋으로 평가하기\n",
    "lstm2_results = lstm2_model.evaluate(X_test,  y_test, verbose=2)\n",
    "\n",
    "print(lstm2_results)"
   ]
  },
  {
   "cell_type": "markdown",
   "metadata": {},
   "source": [
    "## Loss, Accuracy 그래프 시각화  \n",
    "- model.fit() 과정 중의 train/validation loss, accuracy 등이 매 epoch마다 history 변수에 저장되어 있다.\n",
    "- 이 데이터를 그래프로 그려 보면, 수행했던 딥러닝 학습이 잘 진행되었는지, 오버피팅 혹은 언더피팅하지 않았는지, 성능을 개선할 수 있는 방안을 알 수있다."
   ]
  },
  {
   "cell_type": "code",
   "execution_count": 22,
   "metadata": {},
   "outputs": [
    {
     "name": "stdout",
     "output_type": "stream",
     "text": [
      "dict_keys(['loss', 'accuracy', 'val_loss', 'val_accuracy'])\n"
     ]
    }
   ],
   "source": [
    "history_dict = history.history\n",
    "print(history_dict.keys()) # epoch에 따른 그래프를 그려볼 수 있는 항목들"
   ]
  },
  {
   "cell_type": "code",
   "execution_count": 23,
   "metadata": {},
   "outputs": [
    {
     "data": {
      "image/png": "[encoded data removed]",
      "text/plain": [
       "<Figure size 432x288 with 1 Axes>"
      ]
     },
     "metadata": {
      "needs_background": "light"
     },
     "output_type": "display_data"
    }
   ],
   "source": [
    "import matplotlib.pyplot as plt\n",
    "\n",
    "acc = history_dict['accuracy']\n",
    "val_acc = history_dict['val_accuracy']\n",
    "loss = history_dict['loss']\n",
    "val_loss = history_dict['val_loss']\n",
    "\n",
    "epochs = range(1, len(acc) + 1)\n",
    "\n",
    "# \"bo\"는 \"파란색 점\"입니다\n",
    "plt.plot(epochs, loss, 'bo', label='Training loss')\n",
    "# b는 \"파란 실선\"입니다\n",
    "plt.plot(epochs, val_loss, 'b', label='Validation loss')\n",
    "plt.title('Training and validation loss')\n",
    "plt.xlabel('Epochs')\n",
    "plt.ylabel('Loss')\n",
    "plt.legend()\n",
    "\n",
    "plt.show()"
   ]
  },
  {
   "cell_type": "code",
   "execution_count": 24,
   "metadata": {},
   "outputs": [
    {
     "data": {
      "image/png": "[encoded data removed]",
      "text/plain": [
       "<Figure size 432x288 with 1 Axes>"
      ]
     },
     "metadata": {
      "needs_background": "light"
     },
     "output_type": "display_data"
    }
   ],
   "source": [
    "# Training and validation accuracy 그리기\n",
    "plt.clf()   # 그림을 초기화\n",
    "\n",
    "plt.plot(epochs, acc, 'bo', label='Training acc')\n",
    "plt.plot(epochs, val_acc, 'b', label='Validation acc')\n",
    "plt.title('Training and validation accuracy')\n",
    "plt.xlabel('Epochs')\n",
    "plt.ylabel('Accuracy')\n",
    "plt.legend()\n",
    "\n",
    "plt.show()"
   ]
  },
  {
   "cell_type": "markdown",
   "metadata": {},
   "source": [
    "임베딩 벡터 차원수 -> 100 - accuracy : 0.8300  \n",
    "       -> 500 - accuracy: 0.8412 (오버피팅 발생)  \n",
    "       -> 500 - accuracy : 0.8496 (dropout/earlystopping 진행 했으나 정확도를 더 높여야 한다.) \n",
    "       -> 1000 - accuracy : 0.8531 (bach size 줄이고, 워드 벡터 차원수를 늘인 만큼 LSTM state 벡터의 차원수도 높였다.)\n",
    "       "
   ]
  },
  {
   "cell_type": "code",
   "execution_count": null,
   "metadata": {},
   "outputs": [],
   "source": []
  },
  {
   "cell_type": "markdown",
   "metadata": {},
   "source": [
    "## 학습된 Embedding 레이어 분석"
   ]
  },
  {
   "cell_type": "code",
   "execution_count": 26,
   "metadata": {},
   "outputs": [
    {
     "name": "stdout",
     "output_type": "stream",
     "text": [
      "(10000, 1000)\n"
     ]
    }
   ],
   "source": [
    "embedding_layer = lstm2_model.layers[0]\n",
    "weights = embedding_layer.get_weights()[0]\n",
    "print(weights.shape)    # shape: (vocab_size, embedding_dim)"
   ]
  },
  {
   "cell_type": "code",
   "execution_count": null,
   "metadata": {},
   "outputs": [],
   "source": []
  },
  {
   "cell_type": "code",
   "execution_count": null,
   "metadata": {},
   "outputs": [],
   "source": []
  },
  {
   "cell_type": "code",
   "execution_count": null,
   "metadata": {},
   "outputs": [],
   "source": []
  },
  {
   "cell_type": "code",
   "execution_count": null,
   "metadata": {},
   "outputs": [],
   "source": []
  },
  {
   "cell_type": "code",
   "execution_count": null,
   "metadata": {},
   "outputs": [],
   "source": []
  },
  {
   "cell_type": "code",
   "execution_count": null,
   "metadata": {},
   "outputs": [],
   "source": []
  }
 ],
 "metadata": {
  "kernelspec": {
   "display_name": "aiffel",
   "language": "python",
   "name": "aiffel"
  },
  "language_info": {
   "codemirror_mode": {
    "name": "ipython",
    "version": 3
   },
   "file_extension": ".py",
   "mimetype": "text/x-python",
   "name": "python",
   "nbconvert_exporter": "python",
   "pygments_lexer": "ipython3",
   "version": "3.7.9"
  }
 },
 "nbformat": 4,
 "nbformat_minor": 4
}
