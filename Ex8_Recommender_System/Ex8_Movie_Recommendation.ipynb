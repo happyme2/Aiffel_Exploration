{
 "cells": [
  {
   "cell_type": "markdown",
   "metadata": {},
   "source": [
    "# Movielens 영화 추천 "
   ]
  },
  {
   "cell_type": "markdown",
   "metadata": {},
   "source": [
    "1) wget으로 데이터 다운로드\n",
    "$ wget http://files.grouplens.org/datasets/movielens/ml-1m.zip\n",
    "\n",
    "2) 다운받은 데이터를 작업디렉토리로 옮김\n",
    "$ mv ml-1m.zip ~/aiffel/recommendata_iu/data\n",
    "\n",
    "3) 작업디렉토리로 이동\n",
    "$ cd ~/aiffel/recommendata_iu/data\n",
    "\n",
    "4) 압축 해제\n",
    "$ unzip ml-1m.zip"
   ]
  },
  {
   "cell_type": "code",
   "execution_count": 1,
   "metadata": {},
   "outputs": [
    {
     "data": {
      "text/html": [
       "<div>\n",
       "<style scoped>\n",
       "    .dataframe tbody tr th:only-of-type {\n",
       "        vertical-align: middle;\n",
       "    }\n",
       "\n",
       "    .dataframe tbody tr th {\n",
       "        vertical-align: top;\n",
       "    }\n",
       "\n",
       "    .dataframe thead th {\n",
       "        text-align: right;\n",
       "    }\n",
       "</style>\n",
       "<table border=\"1\" class=\"dataframe\">\n",
       "  <thead>\n",
       "    <tr style=\"text-align: right;\">\n",
       "      <th></th>\n",
       "      <th>user_id</th>\n",
       "      <th>movie_id</th>\n",
       "      <th>rating</th>\n",
       "      <th>timestamp</th>\n",
       "    </tr>\n",
       "  </thead>\n",
       "  <tbody>\n",
       "    <tr>\n",
       "      <th>0</th>\n",
       "      <td>1</td>\n",
       "      <td>1193</td>\n",
       "      <td>5</td>\n",
       "      <td>978300760</td>\n",
       "    </tr>\n",
       "    <tr>\n",
       "      <th>1</th>\n",
       "      <td>1</td>\n",
       "      <td>661</td>\n",
       "      <td>3</td>\n",
       "      <td>978302109</td>\n",
       "    </tr>\n",
       "    <tr>\n",
       "      <th>2</th>\n",
       "      <td>1</td>\n",
       "      <td>914</td>\n",
       "      <td>3</td>\n",
       "      <td>978301968</td>\n",
       "    </tr>\n",
       "    <tr>\n",
       "      <th>3</th>\n",
       "      <td>1</td>\n",
       "      <td>3408</td>\n",
       "      <td>4</td>\n",
       "      <td>978300275</td>\n",
       "    </tr>\n",
       "    <tr>\n",
       "      <th>4</th>\n",
       "      <td>1</td>\n",
       "      <td>2355</td>\n",
       "      <td>5</td>\n",
       "      <td>978824291</td>\n",
       "    </tr>\n",
       "  </tbody>\n",
       "</table>\n",
       "</div>"
      ],
      "text/plain": [
       "   user_id  movie_id  rating  timestamp\n",
       "0        1      1193       5  978300760\n",
       "1        1       661       3  978302109\n",
       "2        1       914       3  978301968\n",
       "3        1      3408       4  978300275\n",
       "4        1      2355       5  978824291"
      ]
     },
     "execution_count": 1,
     "metadata": {},
     "output_type": "execute_result"
    }
   ],
   "source": [
    "import pandas as pd\n",
    "import os\n",
    "\n",
    "rating_file_path=os.getenv('HOME') + '/aiffel/recommendata_iu/data/ml-1m/ratings.dat'\n",
    "ratings_cols = ['user_id', 'movie_id', 'rating', 'timestamp']\n",
    "ratings = pd.read_csv(rating_file_path, sep='::', names=ratings_cols, engine='python')\n",
    "orginal_data_size = len(ratings)\n",
    "ratings.head()"
   ]
  },
  {
   "cell_type": "code",
   "execution_count": 2,
   "metadata": {},
   "outputs": [
    {
     "data": {
      "text/html": [
       "<div>\n",
       "<style scoped>\n",
       "    .dataframe tbody tr th:only-of-type {\n",
       "        vertical-align: middle;\n",
       "    }\n",
       "\n",
       "    .dataframe tbody tr th {\n",
       "        vertical-align: top;\n",
       "    }\n",
       "\n",
       "    .dataframe thead th {\n",
       "        text-align: right;\n",
       "    }\n",
       "</style>\n",
       "<table border=\"1\" class=\"dataframe\">\n",
       "  <thead>\n",
       "    <tr style=\"text-align: right;\">\n",
       "      <th></th>\n",
       "      <th>user_id</th>\n",
       "      <th>movie_id</th>\n",
       "      <th>rating</th>\n",
       "    </tr>\n",
       "  </thead>\n",
       "  <tbody>\n",
       "    <tr>\n",
       "      <th>0</th>\n",
       "      <td>1</td>\n",
       "      <td>1193</td>\n",
       "      <td>5</td>\n",
       "    </tr>\n",
       "    <tr>\n",
       "      <th>1</th>\n",
       "      <td>1</td>\n",
       "      <td>661</td>\n",
       "      <td>3</td>\n",
       "    </tr>\n",
       "    <tr>\n",
       "      <th>2</th>\n",
       "      <td>1</td>\n",
       "      <td>914</td>\n",
       "      <td>3</td>\n",
       "    </tr>\n",
       "    <tr>\n",
       "      <th>3</th>\n",
       "      <td>1</td>\n",
       "      <td>3408</td>\n",
       "      <td>4</td>\n",
       "    </tr>\n",
       "    <tr>\n",
       "      <th>4</th>\n",
       "      <td>1</td>\n",
       "      <td>2355</td>\n",
       "      <td>5</td>\n",
       "    </tr>\n",
       "    <tr>\n",
       "      <th>5</th>\n",
       "      <td>1</td>\n",
       "      <td>1197</td>\n",
       "      <td>3</td>\n",
       "    </tr>\n",
       "    <tr>\n",
       "      <th>6</th>\n",
       "      <td>1</td>\n",
       "      <td>1287</td>\n",
       "      <td>5</td>\n",
       "    </tr>\n",
       "    <tr>\n",
       "      <th>7</th>\n",
       "      <td>1</td>\n",
       "      <td>2804</td>\n",
       "      <td>5</td>\n",
       "    </tr>\n",
       "    <tr>\n",
       "      <th>8</th>\n",
       "      <td>1</td>\n",
       "      <td>594</td>\n",
       "      <td>4</td>\n",
       "    </tr>\n",
       "    <tr>\n",
       "      <th>9</th>\n",
       "      <td>1</td>\n",
       "      <td>919</td>\n",
       "      <td>4</td>\n",
       "    </tr>\n",
       "  </tbody>\n",
       "</table>\n",
       "</div>"
      ],
      "text/plain": [
       "   user_id  movie_id  rating\n",
       "0        1      1193       5\n",
       "1        1       661       3\n",
       "2        1       914       3\n",
       "3        1      3408       4\n",
       "4        1      2355       5\n",
       "5        1      1197       3\n",
       "6        1      1287       5\n",
       "7        1      2804       5\n",
       "8        1       594       4\n",
       "9        1       919       4"
      ]
     },
     "execution_count": 2,
     "metadata": {},
     "output_type": "execute_result"
    }
   ],
   "source": [
    "# timestamp 항목은 관심없다.\n",
    "# 사용하는 컬럼만 남겨줍니다.\n",
    "using_cols = ['user_id', 'movie_id','rating']\n",
    "ratings = ratings[using_cols]\n",
    "ratings.head(10)"
   ]
  },
  {
   "cell_type": "code",
   "execution_count": 3,
   "metadata": {},
   "outputs": [
    {
     "name": "stdout",
     "output_type": "stream",
     "text": [
      "orginal_data_size: 1000209, filtered_data_size: 836478\n",
      "Ratio of Remaining Data is 83.63%\n"
     ]
    }
   ],
   "source": [
    "# 3점 이상만 남깁니다.\n",
    "ratings = ratings[ratings['rating']>=3]\n",
    "filtered_data_size = len(ratings)\n",
    "\n",
    "print(f'orginal_data_size: {orginal_data_size}, filtered_data_size: {filtered_data_size}')\n",
    "print(f'Ratio of Remaining Data is {filtered_data_size / orginal_data_size:.2%}')"
   ]
  },
  {
   "cell_type": "code",
   "execution_count": 4,
   "metadata": {},
   "outputs": [
    {
     "data": {
      "text/plain": [
       "0          5\n",
       "1          3\n",
       "2          3\n",
       "3          4\n",
       "4          5\n",
       "          ..\n",
       "1000203    3\n",
       "1000205    5\n",
       "1000206    5\n",
       "1000207    4\n",
       "1000208    4\n",
       "Name: count, Length: 836478, dtype: int64"
      ]
     },
     "execution_count": 4,
     "metadata": {},
     "output_type": "execute_result"
    }
   ],
   "source": [
    "# rating 컬럼의 이름을 count로 바꿉니다.\n",
    "ratings.rename(columns={'rating':'count'}, inplace=True)\n",
    "\n",
    "ratings['count']"
   ]
  },
  {
   "cell_type": "code",
   "execution_count": 6,
   "metadata": {},
   "outputs": [
    {
     "data": {
      "text/html": [
       "<div>\n",
       "<style scoped>\n",
       "    .dataframe tbody tr th:only-of-type {\n",
       "        vertical-align: middle;\n",
       "    }\n",
       "\n",
       "    .dataframe tbody tr th {\n",
       "        vertical-align: top;\n",
       "    }\n",
       "\n",
       "    .dataframe thead th {\n",
       "        text-align: right;\n",
       "    }\n",
       "</style>\n",
       "<table border=\"1\" class=\"dataframe\">\n",
       "  <thead>\n",
       "    <tr style=\"text-align: right;\">\n",
       "      <th></th>\n",
       "      <th>movie_id</th>\n",
       "      <th>title</th>\n",
       "    </tr>\n",
       "  </thead>\n",
       "  <tbody>\n",
       "    <tr>\n",
       "      <th>0</th>\n",
       "      <td>1</td>\n",
       "      <td>Toy Story (1995)</td>\n",
       "    </tr>\n",
       "    <tr>\n",
       "      <th>1</th>\n",
       "      <td>2</td>\n",
       "      <td>Jumanji (1995)</td>\n",
       "    </tr>\n",
       "    <tr>\n",
       "      <th>2</th>\n",
       "      <td>3</td>\n",
       "      <td>Grumpier Old Men (1995)</td>\n",
       "    </tr>\n",
       "    <tr>\n",
       "      <th>3</th>\n",
       "      <td>4</td>\n",
       "      <td>Waiting to Exhale (1995)</td>\n",
       "    </tr>\n",
       "    <tr>\n",
       "      <th>4</th>\n",
       "      <td>5</td>\n",
       "      <td>Father of the Bride Part II (1995)</td>\n",
       "    </tr>\n",
       "    <tr>\n",
       "      <th>5</th>\n",
       "      <td>6</td>\n",
       "      <td>Heat (1995)</td>\n",
       "    </tr>\n",
       "    <tr>\n",
       "      <th>6</th>\n",
       "      <td>7</td>\n",
       "      <td>Sabrina (1995)</td>\n",
       "    </tr>\n",
       "    <tr>\n",
       "      <th>7</th>\n",
       "      <td>8</td>\n",
       "      <td>Tom and Huck (1995)</td>\n",
       "    </tr>\n",
       "    <tr>\n",
       "      <th>8</th>\n",
       "      <td>9</td>\n",
       "      <td>Sudden Death (1995)</td>\n",
       "    </tr>\n",
       "    <tr>\n",
       "      <th>9</th>\n",
       "      <td>10</td>\n",
       "      <td>GoldenEye (1995)</td>\n",
       "    </tr>\n",
       "  </tbody>\n",
       "</table>\n",
       "</div>"
      ],
      "text/plain": [
       "   movie_id                               title\n",
       "0         1                    Toy Story (1995)\n",
       "1         2                      Jumanji (1995)\n",
       "2         3             Grumpier Old Men (1995)\n",
       "3         4            Waiting to Exhale (1995)\n",
       "4         5  Father of the Bride Part II (1995)\n",
       "5         6                         Heat (1995)\n",
       "6         7                      Sabrina (1995)\n",
       "7         8                 Tom and Huck (1995)\n",
       "8         9                 Sudden Death (1995)\n",
       "9        10                    GoldenEye (1995)"
      ]
     },
     "execution_count": 6,
     "metadata": {},
     "output_type": "execute_result"
    }
   ],
   "source": [
    "# 영화 제목을 보기 위해 메타 데이터를 읽어옵니다.\n",
    "movie_file_path=os.getenv('HOME') + '/aiffel/recommendata_iu/data/ml-1m/movies.dat'\n",
    "cols = ['movie_id', 'title', 'genre'] \n",
    "movies_using_cols = ['movie_id','title']\n",
    "\n",
    "\n",
    "movies = pd.read_csv(movie_file_path, sep='::', names=cols, engine='python')\n",
    "movies = movies[movies_using_cols]\n",
    "movies.head(10)"
   ]
  },
  {
   "cell_type": "markdown",
   "metadata": {},
   "source": [
    "// 병합 과정이 없으니까 아래 코드들에서 movies에 title을 찾으려 할때 오류가 났다. 병합 후 ratings_add에서 title을 찾으니 해결!"
   ]
  },
  {
   "cell_type": "code",
   "execution_count": 7,
   "metadata": {},
   "outputs": [
    {
     "data": {
      "text/html": [
       "<div>\n",
       "<style scoped>\n",
       "    .dataframe tbody tr th:only-of-type {\n",
       "        vertical-align: middle;\n",
       "    }\n",
       "\n",
       "    .dataframe tbody tr th {\n",
       "        vertical-align: top;\n",
       "    }\n",
       "\n",
       "    .dataframe thead th {\n",
       "        text-align: right;\n",
       "    }\n",
       "</style>\n",
       "<table border=\"1\" class=\"dataframe\">\n",
       "  <thead>\n",
       "    <tr style=\"text-align: right;\">\n",
       "      <th></th>\n",
       "      <th>user_id</th>\n",
       "      <th>movie_id</th>\n",
       "      <th>count</th>\n",
       "      <th>title</th>\n",
       "    </tr>\n",
       "  </thead>\n",
       "  <tbody>\n",
       "    <tr>\n",
       "      <th>0</th>\n",
       "      <td>1</td>\n",
       "      <td>1193</td>\n",
       "      <td>5</td>\n",
       "      <td>One Flew Over the Cuckoo's Nest (1975)</td>\n",
       "    </tr>\n",
       "    <tr>\n",
       "      <th>1</th>\n",
       "      <td>2</td>\n",
       "      <td>1193</td>\n",
       "      <td>5</td>\n",
       "      <td>One Flew Over the Cuckoo's Nest (1975)</td>\n",
       "    </tr>\n",
       "    <tr>\n",
       "      <th>2</th>\n",
       "      <td>12</td>\n",
       "      <td>1193</td>\n",
       "      <td>4</td>\n",
       "      <td>One Flew Over the Cuckoo's Nest (1975)</td>\n",
       "    </tr>\n",
       "    <tr>\n",
       "      <th>3</th>\n",
       "      <td>15</td>\n",
       "      <td>1193</td>\n",
       "      <td>4</td>\n",
       "      <td>One Flew Over the Cuckoo's Nest (1975)</td>\n",
       "    </tr>\n",
       "    <tr>\n",
       "      <th>4</th>\n",
       "      <td>17</td>\n",
       "      <td>1193</td>\n",
       "      <td>5</td>\n",
       "      <td>One Flew Over the Cuckoo's Nest (1975)</td>\n",
       "    </tr>\n",
       "    <tr>\n",
       "      <th>...</th>\n",
       "      <td>...</td>\n",
       "      <td>...</td>\n",
       "      <td>...</td>\n",
       "      <td>...</td>\n",
       "    </tr>\n",
       "    <tr>\n",
       "      <th>836473</th>\n",
       "      <td>5851</td>\n",
       "      <td>3607</td>\n",
       "      <td>5</td>\n",
       "      <td>One Little Indian (1973)</td>\n",
       "    </tr>\n",
       "    <tr>\n",
       "      <th>836474</th>\n",
       "      <td>5854</td>\n",
       "      <td>3026</td>\n",
       "      <td>4</td>\n",
       "      <td>Slaughterhouse (1987)</td>\n",
       "    </tr>\n",
       "    <tr>\n",
       "      <th>836475</th>\n",
       "      <td>5854</td>\n",
       "      <td>690</td>\n",
       "      <td>3</td>\n",
       "      <td>Promise, The (Versprechen, Das) (1994)</td>\n",
       "    </tr>\n",
       "    <tr>\n",
       "      <th>836476</th>\n",
       "      <td>5938</td>\n",
       "      <td>2909</td>\n",
       "      <td>4</td>\n",
       "      <td>Five Wives, Three Secretaries and Me (1998)</td>\n",
       "    </tr>\n",
       "    <tr>\n",
       "      <th>836477</th>\n",
       "      <td>5948</td>\n",
       "      <td>1360</td>\n",
       "      <td>5</td>\n",
       "      <td>Identification of a Woman (Identificazione di ...</td>\n",
       "    </tr>\n",
       "  </tbody>\n",
       "</table>\n",
       "<p>836478 rows × 4 columns</p>\n",
       "</div>"
      ],
      "text/plain": [
       "        user_id  movie_id  count  \\\n",
       "0             1      1193      5   \n",
       "1             2      1193      5   \n",
       "2            12      1193      4   \n",
       "3            15      1193      4   \n",
       "4            17      1193      5   \n",
       "...         ...       ...    ...   \n",
       "836473     5851      3607      5   \n",
       "836474     5854      3026      4   \n",
       "836475     5854       690      3   \n",
       "836476     5938      2909      4   \n",
       "836477     5948      1360      5   \n",
       "\n",
       "                                                    title  \n",
       "0                  One Flew Over the Cuckoo's Nest (1975)  \n",
       "1                  One Flew Over the Cuckoo's Nest (1975)  \n",
       "2                  One Flew Over the Cuckoo's Nest (1975)  \n",
       "3                  One Flew Over the Cuckoo's Nest (1975)  \n",
       "4                  One Flew Over the Cuckoo's Nest (1975)  \n",
       "...                                                   ...  \n",
       "836473                           One Little Indian (1973)  \n",
       "836474                              Slaughterhouse (1987)  \n",
       "836475             Promise, The (Versprechen, Das) (1994)  \n",
       "836476        Five Wives, Three Secretaries and Me (1998)  \n",
       "836477  Identification of a Woman (Identificazione di ...  \n",
       "\n",
       "[836478 rows x 4 columns]"
      ]
     },
     "execution_count": 7,
     "metadata": {},
     "output_type": "execute_result"
    }
   ],
   "source": [
    "# 영화제목 추가해서 변경해주기 \n",
    "ratings_add = pd.merge(ratings,movies, on = \"movie_id\")   # 표 합치기 - movie_id라는 열만 겹친다!\n",
    "ratings_add"
   ]
  },
  {
   "cell_type": "markdown",
   "metadata": {},
   "source": [
    "#### 분석해보기"
   ]
  },
  {
   "cell_type": "code",
   "execution_count": 8,
   "metadata": {},
   "outputs": [
    {
     "name": "stdout",
     "output_type": "stream",
     "text": [
      "영화 갯수 : 3628\n",
      "사용자 수 : 6039\n"
     ]
    }
   ],
   "source": [
    "# ratings에 있는 유니크한 영화 개수\n",
    "print(\"영화 갯수 :\",ratings_add['movie_id'].nunique())\n",
    "\n",
    "#rating에 있는 유니크한 사용자 수\n",
    "print(\"사용자 수 :\",ratings_add['user_id'].nunique())"
   ]
  },
  {
   "cell_type": "code",
   "execution_count": 9,
   "metadata": {},
   "outputs": [
    {
     "data": {
      "text/plain": [
       "title\n",
       "American Beauty (1999)                                   3211\n",
       "Star Wars: Episode IV - A New Hope (1977)                2910\n",
       "Star Wars: Episode V - The Empire Strikes Back (1980)    2885\n",
       "Star Wars: Episode VI - Return of the Jedi (1983)        2716\n",
       "Saving Private Ryan (1998)                               2561\n",
       "Terminator 2: Judgment Day (1991)                        2509\n",
       "Silence of the Lambs, The (1991)                         2498\n",
       "Raiders of the Lost Ark (1981)                           2473\n",
       "Back to the Future (1985)                                2460\n",
       "Matrix, The (1999)                                       2434\n",
       "Jurassic Park (1993)                                     2413\n",
       "Sixth Sense, The (1999)                                  2385\n",
       "Fargo (1996)                                             2371\n",
       "Braveheart (1995)                                        2314\n",
       "Men in Black (1997)                                      2297\n",
       "Schindler's List (1993)                                  2257\n",
       "Princess Bride, The (1987)                               2252\n",
       "Shakespeare in Love (1998)                               2213\n",
       "L.A. Confidential (1997)                                 2210\n",
       "Shawshank Redemption, The (1994)                         2194\n",
       "Godfather, The (1972)                                    2167\n",
       "Groundhog Day (1993)                                     2121\n",
       "E.T. the Extra-Terrestrial (1982)                        2102\n",
       "Being John Malkovich (1999)                              2066\n",
       "Ghostbusters (1984)                                      2051\n",
       "Pulp Fiction (1994)                                      2030\n",
       "Forrest Gump (1994)                                      2022\n",
       "Terminator, The (1984)                                   2019\n",
       "Toy Story (1995)                                         2000\n",
       "Fugitive, The (1993)                                     1941\n",
       "Alien (1979)                                             1920\n",
       "Gladiator (2000)                                         1798\n",
       "Total Recall (1990)                                      1786\n",
       "Star Wars: Episode I - The Phantom Menace (1999)         1783\n",
       "Usual Suspects, The (1995)                               1744\n",
       "Stand by Me (1986)                                       1728\n",
       "Blade Runner (1982)                                      1722\n",
       "Aliens (1986)                                            1720\n",
       "One Flew Over the Cuckoo's Nest (1975)                   1680\n",
       "Wizard of Oz, The (1939)                                 1650\n",
       "Godfather: Part II, The (1974)                           1624\n",
       "Casablanca (1942)                                        1623\n",
       "Who Framed Roger Rabbit? (1988)                          1605\n",
       "Bug's Life, A (1998)                                     1599\n",
       "Jaws (1975)                                              1598\n",
       "GoodFellas (1990)                                        1595\n",
       "Die Hard (1988)                                          1593\n",
       "Hunt for Red October, The (1990)                         1587\n",
       "Airplane! (1980)                                         1586\n",
       "Babe (1995)                                              1574\n",
       "Name: user_id, dtype: int64"
      ]
     },
     "execution_count": 9,
     "metadata": {},
     "output_type": "execute_result"
    }
   ],
   "source": [
    "# 가장 인기 있는 영화 30개(인기순)\n",
    "popular_movie_count = ratings_add.groupby('title')['user_id'].count()\n",
    "popular_movie_count.sort_values(ascending=False).head(50)\n"
   ]
  },
  {
   "cell_type": "markdown",
   "metadata": {},
   "source": [
    "### 모델 검증을 위한 사용자 초기 정보 세팅\n",
    "#### 내가 선호하는 영화를 5가지 골라서 rating에 추가하기\n",
    "- (문제)새로 추가한 영화의 title은 있지만 movie_id 가 없다!!  -- user_id가 인식되지 않음 (데이터셋에서 찾아서 넣어주자...)\n",
    "- 임의의 movie_id를 넣어주면 user_id 인식 -- 임의의 movie_id 대신 데이터셋 movie_id 찾아주기"
   ]
  },
  {
   "cell_type": "code",
   "execution_count": 10,
   "metadata": {},
   "outputs": [
    {
     "data": {
      "text/html": [
       "<div>\n",
       "<style scoped>\n",
       "    .dataframe tbody tr th:only-of-type {\n",
       "        vertical-align: middle;\n",
       "    }\n",
       "\n",
       "    .dataframe tbody tr th {\n",
       "        vertical-align: top;\n",
       "    }\n",
       "\n",
       "    .dataframe thead th {\n",
       "        text-align: right;\n",
       "    }\n",
       "</style>\n",
       "<table border=\"1\" class=\"dataframe\">\n",
       "  <thead>\n",
       "    <tr style=\"text-align: right;\">\n",
       "      <th></th>\n",
       "      <th>user_id</th>\n",
       "      <th>movie_id</th>\n",
       "      <th>count</th>\n",
       "      <th>title</th>\n",
       "    </tr>\n",
       "  </thead>\n",
       "  <tbody>\n",
       "    <tr>\n",
       "      <th>836473</th>\n",
       "      <td>5851</td>\n",
       "      <td>3607</td>\n",
       "      <td>5</td>\n",
       "      <td>One Little Indian (1973)</td>\n",
       "    </tr>\n",
       "    <tr>\n",
       "      <th>836474</th>\n",
       "      <td>5854</td>\n",
       "      <td>3026</td>\n",
       "      <td>4</td>\n",
       "      <td>Slaughterhouse (1987)</td>\n",
       "    </tr>\n",
       "    <tr>\n",
       "      <th>836475</th>\n",
       "      <td>5854</td>\n",
       "      <td>690</td>\n",
       "      <td>3</td>\n",
       "      <td>Promise, The (Versprechen, Das) (1994)</td>\n",
       "    </tr>\n",
       "    <tr>\n",
       "      <th>836476</th>\n",
       "      <td>5938</td>\n",
       "      <td>2909</td>\n",
       "      <td>4</td>\n",
       "      <td>Five Wives, Three Secretaries and Me (1998)</td>\n",
       "    </tr>\n",
       "    <tr>\n",
       "      <th>836477</th>\n",
       "      <td>5948</td>\n",
       "      <td>1360</td>\n",
       "      <td>5</td>\n",
       "      <td>Identification of a Woman (Identificazione di ...</td>\n",
       "    </tr>\n",
       "    <tr>\n",
       "      <th>0</th>\n",
       "      <td>mee</td>\n",
       "      <td>1193</td>\n",
       "      <td>5</td>\n",
       "      <td>'One Flew Over the Cuckoo's Nest (1975)</td>\n",
       "    </tr>\n",
       "    <tr>\n",
       "      <th>1</th>\n",
       "      <td>mee</td>\n",
       "      <td>2</td>\n",
       "      <td>5</td>\n",
       "      <td>Jumanji (1995)</td>\n",
       "    </tr>\n",
       "    <tr>\n",
       "      <th>2</th>\n",
       "      <td>mee</td>\n",
       "      <td>3607</td>\n",
       "      <td>5</td>\n",
       "      <td>One Little Indian (1973)</td>\n",
       "    </tr>\n",
       "    <tr>\n",
       "      <th>3</th>\n",
       "      <td>mee</td>\n",
       "      <td>4</td>\n",
       "      <td>5</td>\n",
       "      <td>Toy Story (1995)</td>\n",
       "    </tr>\n",
       "    <tr>\n",
       "      <th>4</th>\n",
       "      <td>mee</td>\n",
       "      <td>45</td>\n",
       "      <td>5</td>\n",
       "      <td>To Die For (1995)</td>\n",
       "    </tr>\n",
       "  </tbody>\n",
       "</table>\n",
       "</div>"
      ],
      "text/plain": [
       "       user_id  movie_id  count  \\\n",
       "836473    5851      3607      5   \n",
       "836474    5854      3026      4   \n",
       "836475    5854       690      3   \n",
       "836476    5938      2909      4   \n",
       "836477    5948      1360      5   \n",
       "0          mee      1193      5   \n",
       "1          mee         2      5   \n",
       "2          mee      3607      5   \n",
       "3          mee         4      5   \n",
       "4          mee        45      5   \n",
       "\n",
       "                                                    title  \n",
       "836473                           One Little Indian (1973)  \n",
       "836474                              Slaughterhouse (1987)  \n",
       "836475             Promise, The (Versprechen, Das) (1994)  \n",
       "836476        Five Wives, Three Secretaries and Me (1998)  \n",
       "836477  Identification of a Woman (Identificazione di ...  \n",
       "0                 'One Flew Over the Cuckoo's Nest (1975)  \n",
       "1                                          Jumanji (1995)  \n",
       "2                                One Little Indian (1973)  \n",
       "3                                        Toy Story (1995)  \n",
       "4                                       To Die For (1995)  "
      ]
     },
     "execution_count": 10,
     "metadata": {},
     "output_type": "execute_result"
    }
   ],
   "source": [
    "# 선호하는 영화 5가지 추가! 단, 이름은 꼭 데이터셋에 있는 것과 동일하게 맞춰주세요. \n",
    "my_favorite = [\"'One Flew Over the Cuckoo's Nest (1975)\" , 'Jumanji (1995)' ,'One Little Indian (1973)' ,'Toy Story (1995)' ,'To Die For (1995)']\n",
    "\n",
    "my_favorite_id = [1193,2,3607,4,45]  # movie_id 찾아서 입력해주기\n",
    "\n",
    "\n",
    "# 'mee'이라는 user_id가 위 아티스트의 노래를 30회씩 들었다고 가정하겠습니다.\n",
    "my_movie = pd.DataFrame({'user_id': ['mee']*5, 'movie_id' :my_favorite_id ,  'title' : my_favorite,'count':[5]*5})\n",
    "\n",
    "if not ratings_add.isin({'user_id':['mee']})['user_id'].any():  # user_id에 'mee'이라는 데이터가 없다면\n",
    "    ratings_add = ratings_add.append(my_movie)                           # 위에 임의로 만든 my_favorite 데이터를 추가해 줍니다. \n",
    "\n",
    "ratings_add.tail(10)       # 잘 추가되었는지 확인해 봅시다."
   ]
  },
  {
   "cell_type": "markdown",
   "metadata": {},
   "source": [
    "### 모델에 활용하기 위한 전처리 - indexing"
   ]
  },
  {
   "cell_type": "code",
   "execution_count": 11,
   "metadata": {},
   "outputs": [],
   "source": [
    "# 고유한 유저, 영화를 찾아내는 코드\n",
    "user_unique = ratings_add['user_id'].unique()\n",
    "movie_unique = ratings_add['title'].unique()\n",
    "\n",
    "# 유저, 영화 indexing 하는 코드 idx는 index의 약자입니다.\n",
    "user_to_idx = {v:k for k,v in enumerate(user_unique)}\n",
    "movie_to_idx = {v:k for k,v in enumerate(movie_unique)}"
   ]
  },
  {
   "cell_type": "code",
   "execution_count": 12,
   "metadata": {},
   "outputs": [
    {
     "name": "stdout",
     "output_type": "stream",
     "text": [
      "6039\n",
      "218\n"
     ]
    }
   ],
   "source": [
    "# 인덱싱이 잘 되었는지 확인해 봅니다. \n",
    "print(user_to_idx['mee'])    # 아직 CSR matrix 적용 전이라 6039 ?\n",
    "print(movie_to_idx['Richard III (1995)'])"
   ]
  },
  {
   "cell_type": "code",
   "execution_count": 13,
   "metadata": {},
   "outputs": [
    {
     "name": "stdout",
     "output_type": "stream",
     "text": [
      "user_id column indexing OK!!\n",
      "movie column indexing OK!!\n",
      "ratings의 user_id와 movie 모두 정수 인덱스 값으로 변경!\n"
     ]
    },
    {
     "data": {
      "text/html": [
       "<div>\n",
       "<style scoped>\n",
       "    .dataframe tbody tr th:only-of-type {\n",
       "        vertical-align: middle;\n",
       "    }\n",
       "\n",
       "    .dataframe tbody tr th {\n",
       "        vertical-align: top;\n",
       "    }\n",
       "\n",
       "    .dataframe thead th {\n",
       "        text-align: right;\n",
       "    }\n",
       "</style>\n",
       "<table border=\"1\" class=\"dataframe\">\n",
       "  <thead>\n",
       "    <tr style=\"text-align: right;\">\n",
       "      <th></th>\n",
       "      <th>user_id</th>\n",
       "      <th>movie_id</th>\n",
       "      <th>count</th>\n",
       "      <th>title</th>\n",
       "    </tr>\n",
       "  </thead>\n",
       "  <tbody>\n",
       "    <tr>\n",
       "      <th>0</th>\n",
       "      <td>0</td>\n",
       "      <td>1193</td>\n",
       "      <td>5</td>\n",
       "      <td>0</td>\n",
       "    </tr>\n",
       "    <tr>\n",
       "      <th>1</th>\n",
       "      <td>1</td>\n",
       "      <td>1193</td>\n",
       "      <td>5</td>\n",
       "      <td>0</td>\n",
       "    </tr>\n",
       "    <tr>\n",
       "      <th>2</th>\n",
       "      <td>2</td>\n",
       "      <td>1193</td>\n",
       "      <td>4</td>\n",
       "      <td>0</td>\n",
       "    </tr>\n",
       "    <tr>\n",
       "      <th>3</th>\n",
       "      <td>3</td>\n",
       "      <td>1193</td>\n",
       "      <td>4</td>\n",
       "      <td>0</td>\n",
       "    </tr>\n",
       "    <tr>\n",
       "      <th>4</th>\n",
       "      <td>4</td>\n",
       "      <td>1193</td>\n",
       "      <td>5</td>\n",
       "      <td>0</td>\n",
       "    </tr>\n",
       "    <tr>\n",
       "      <th>...</th>\n",
       "      <td>...</td>\n",
       "      <td>...</td>\n",
       "      <td>...</td>\n",
       "      <td>...</td>\n",
       "    </tr>\n",
       "    <tr>\n",
       "      <th>0</th>\n",
       "      <td>6039</td>\n",
       "      <td>1193</td>\n",
       "      <td>5</td>\n",
       "      <td>3628</td>\n",
       "    </tr>\n",
       "    <tr>\n",
       "      <th>1</th>\n",
       "      <td>6039</td>\n",
       "      <td>2</td>\n",
       "      <td>5</td>\n",
       "      <td>513</td>\n",
       "    </tr>\n",
       "    <tr>\n",
       "      <th>2</th>\n",
       "      <td>6039</td>\n",
       "      <td>3607</td>\n",
       "      <td>5</td>\n",
       "      <td>3623</td>\n",
       "    </tr>\n",
       "    <tr>\n",
       "      <th>3</th>\n",
       "      <td>6039</td>\n",
       "      <td>4</td>\n",
       "      <td>5</td>\n",
       "      <td>40</td>\n",
       "    </tr>\n",
       "    <tr>\n",
       "      <th>4</th>\n",
       "      <td>6039</td>\n",
       "      <td>45</td>\n",
       "      <td>5</td>\n",
       "      <td>1127</td>\n",
       "    </tr>\n",
       "  </tbody>\n",
       "</table>\n",
       "<p>836483 rows × 4 columns</p>\n",
       "</div>"
      ],
      "text/plain": [
       "    user_id  movie_id  count  title\n",
       "0         0      1193      5      0\n",
       "1         1      1193      5      0\n",
       "2         2      1193      4      0\n",
       "3         3      1193      4      0\n",
       "4         4      1193      5      0\n",
       "..      ...       ...    ...    ...\n",
       "0      6039      1193      5   3628\n",
       "1      6039         2      5    513\n",
       "2      6039      3607      5   3623\n",
       "3      6039         4      5     40\n",
       "4      6039        45      5   1127\n",
       "\n",
       "[836483 rows x 4 columns]"
      ]
     },
     "execution_count": 13,
     "metadata": {},
     "output_type": "execute_result"
    }
   ],
   "source": [
    "# indexing을 통해 데이터 컬럼 내 값을 바꾸는 코드\n",
    "# dictionary 자료형의 get 함수는 https://wikidocs.net/16 을 참고하세요.\n",
    "\n",
    "# user_to_idx.get을 통해 user_id 컬럼의 모든 값을 인덱싱한 Series를 구해 봅시다. \n",
    "# 혹시 정상적으로 인덱싱되지 않은 row가 있다면 인덱스가 NaN이 될 테니 dropna()로 제거합니다. \n",
    "temp_user_data = ratings_add['user_id'].map(user_to_idx.get).dropna()\n",
    "if len(temp_user_data) == len(ratings_add):   # 모든 row가 정상적으로 인덱싱되었다면\n",
    "    print('user_id column indexing OK!!')\n",
    "    ratings_add['user_id'] = temp_user_data   # data['user_id']을 인덱싱된 Series로 교체해 줍니다. \n",
    "else:\n",
    "    print('user_id column indexing Fail!!')\n",
    "\n",
    "# movie_to_idx을 통해 movie 컬럼도 동일한 방식으로 인덱싱해 줍니다. \n",
    "temp_movie_data = ratings_add['title'].map(movie_to_idx.get).dropna()\n",
    "if len(temp_movie_data) == len(ratings_add):\n",
    "    print('movie column indexing OK!!')\n",
    "    ratings_add['title'] = temp_movie_data\n",
    "    \n",
    "    \n",
    "else:\n",
    "    print('movie column indexing Fail!!')\n",
    "\n",
    "print(\"ratings의 user_id와 movie 모두 정수 인덱스 값으로 변경!\")    \n",
    "ratings_add"
   ]
  },
  {
   "cell_type": "markdown",
   "metadata": {},
   "source": [
    "#### CSR matrix 만들기"
   ]
  },
  {
   "cell_type": "code",
   "execution_count": 14,
   "metadata": {},
   "outputs": [
    {
     "data": {
      "text/plain": [
       "(6040, 3629)"
      ]
     },
     "execution_count": 14,
     "metadata": {},
     "output_type": "execute_result"
    }
   ],
   "source": [
    "# 실습 위에 설명보고 이해해서 만들어보기\n",
    "from scipy.sparse import csr_matrix\n",
    "\n",
    "num_user = ratings_add['user_id'].nunique()   # 6040으로 늘어남!\n",
    "num_movie = ratings_add['title'].nunique()\n",
    "\n",
    "num_user, num_movie"
   ]
  },
  {
   "cell_type": "code",
   "execution_count": 15,
   "metadata": {},
   "outputs": [
    {
     "data": {
      "text/plain": [
       "<6040x3629 sparse matrix of type '<class 'numpy.longlong'>'\n",
       "\twith 836483 stored elements in Compressed Sparse Row format>"
      ]
     },
     "execution_count": 15,
     "metadata": {},
     "output_type": "execute_result"
    }
   ],
   "source": [
    "csr_ratings = csr_matrix((ratings_add['count'], (ratings_add.user_id, ratings_add.title))) # 인덱스 차원 오류 나타나서 빼줌 - shape= (num_user, num_movie)\n",
    "csr_ratings"
   ]
  },
  {
   "cell_type": "markdown",
   "metadata": {},
   "source": [
    "#### als_model = AlternatingLeastSquares 모델을 직접 구성하여 훈련시키기"
   ]
  },
  {
   "cell_type": "code",
   "execution_count": 16,
   "metadata": {},
   "outputs": [],
   "source": [
    "from implicit.als import AlternatingLeastSquares\n",
    "import os\n",
    "import numpy as np\n",
    "\n",
    "# implicit 라이브러리에서 권장하고 있는 부분입니다. 학습 내용과는 무관합니다.\n",
    "os.environ['OPENBLAS_NUM_THREADS']='1'\n",
    "os.environ['KMP_DUPLICATE_LIB_OK']='True'\n",
    "os.environ['MKL_NUM_THREADS']='1'"
   ]
  },
  {
   "cell_type": "code",
   "execution_count": 17,
   "metadata": {},
   "outputs": [],
   "source": [
    "# Implicit AlternatingLeastSquares 모델의 선언\n",
    "als_model = AlternatingLeastSquares(factors=100, regularization=0.01, use_gpu=False, iterations=15, dtype=np.float32)"
   ]
  },
  {
   "cell_type": "code",
   "execution_count": 18,
   "metadata": {},
   "outputs": [
    {
     "data": {
      "text/plain": [
       "<3629x6040 sparse matrix of type '<class 'numpy.longlong'>'\n",
       "\twith 836483 stored elements in Compressed Sparse Column format>"
      ]
     },
     "execution_count": 18,
     "metadata": {},
     "output_type": "execute_result"
    }
   ],
   "source": [
    "# als 모델은 input으로 (item X user 꼴의 matrix를 받기 때문에 Transpose해줍니다.)\n",
    "csr_ratings_transpose = csr_ratings.T\n",
    "csr_ratings_transpose"
   ]
  },
  {
   "cell_type": "code",
   "execution_count": 19,
   "metadata": {},
   "outputs": [
    {
     "data": {
      "application/vnd.jupyter.widget-view+json": {
       "model_id": "00faa8dace8b4924b659df726997ebb5",
       "version_major": 2,
       "version_minor": 0
      },
      "text/plain": [
       "  0%|          | 0/15 [00:00<?, ?it/s]"
      ]
     },
     "metadata": {},
     "output_type": "display_data"
    },
    {
     "name": "stdout",
     "output_type": "stream",
     "text": [
      "모델훈련 완료!\n"
     ]
    }
   ],
   "source": [
    "# 모델 훈련\n",
    "als_model.fit(csr_ratings_transpose)\n",
    "print(\"모델훈련 완료!\")"
   ]
  },
  {
   "cell_type": "markdown",
   "metadata": {},
   "source": [
    "#### 내가 선호하는 5가지 영화 중 하나와 그 외의 영화 하나를 골라 훈련된 모델이 예측한 나의 선호도를 파악하기\n",
    "- 1) 모델이 '나'의 벡터와 'Aladin'벡터를 어떻게 만들고 있는지 \n",
    "- 2) 두 벡터를 곱하면 어떤 값이 나오는지 "
   ]
  },
  {
   "cell_type": "code",
   "execution_count": 34,
   "metadata": {},
   "outputs": [
    {
     "name": "stdout",
     "output_type": "stream",
     "text": [
      "모델을 통해 구할 벡터 구성 완료\n"
     ]
    }
   ],
   "source": [
    "mee, Toy_story = user_to_idx['mee'], movie_to_idx['Toy Story (1995)']\n",
    "mee_vector, Toy_story_vector = als_model.user_factors[mee], als_model.item_factors[Toy_story]\n",
    "\n",
    "print('모델을 통해 구할 벡터 구성 완료')"
   ]
  },
  {
   "cell_type": "code",
   "execution_count": 31,
   "metadata": {},
   "outputs": [
    {
     "data": {
      "text/plain": [
       "array([-0.0394251 ,  0.25375006,  0.05379024, -0.23094298, -0.6668837 ,\n",
       "       -0.37436533, -0.07260381,  0.14178623, -0.06973664,  0.14333645,\n",
       "        0.03616124, -0.9209283 , -0.04997108,  0.64519703,  0.19769193,\n",
       "       -0.49853867,  0.00291126, -0.31804162,  0.2502424 ,  0.41769403,\n",
       "        0.02873964, -0.12665167, -0.7278591 , -0.37857205, -0.71688414,\n",
       "        0.11428843,  0.4411494 , -0.02807147,  0.11636631,  0.47711396,\n",
       "       -0.5438468 , -0.15239541, -0.16205183, -0.1924766 ,  0.325616  ,\n",
       "        0.25804976,  0.05761448,  0.15549351, -0.48398077,  0.27316675,\n",
       "       -0.67001766,  0.06019577, -0.39150846, -0.5395485 ,  0.43545127,\n",
       "       -0.14252244, -0.15358868, -0.23391384,  0.13548963,  0.24400973,\n",
       "        0.15305516,  0.40698305,  0.3118881 ,  0.21373403, -0.07098311,\n",
       "        0.33029532, -0.12686744,  0.48598528, -0.00709015,  0.20500039,\n",
       "        0.1611849 , -0.32959923,  0.01593384, -0.17030399,  0.02168088,\n",
       "        0.6446338 , -0.33237067, -0.18983606,  0.521776  ,  0.47925022,\n",
       "        0.45643634, -0.13194473,  0.38057825,  0.06029495, -0.15737627,\n",
       "        0.07419293, -0.2664101 , -0.48837036, -0.19094211,  0.16556224,\n",
       "        0.10039335,  0.2944326 , -0.40446743,  0.54863673, -0.24866429,\n",
       "        0.01162603,  1.0215827 , -0.17871067,  0.5547846 ,  0.12412465,\n",
       "       -0.02572049,  0.26856485, -0.21902679, -0.21130809,  0.6637213 ,\n",
       "        0.5945825 , -0.11917684,  0.1913206 , -0.4647716 , -0.02050271],\n",
       "      dtype=float32)"
      ]
     },
     "execution_count": 31,
     "metadata": {},
     "output_type": "execute_result"
    }
   ],
   "source": [
    "mee_vector"
   ]
  },
  {
   "cell_type": "code",
   "execution_count": 35,
   "metadata": {},
   "outputs": [
    {
     "data": {
      "text/plain": [
       "array([ 0.00328621, -0.00241506, -0.01809818, -0.00426363, -0.0165383 ,\n",
       "       -0.02314479,  0.01128219,  0.03524018, -0.00114158,  0.02088149,\n",
       "        0.00253746,  0.00401529, -0.00653932,  0.02226815,  0.04266822,\n",
       "       -0.01910793, -0.00052527,  0.00406431,  0.0175462 ,  0.01304028,\n",
       "        0.00910094, -0.02938518, -0.00356675, -0.01074811, -0.01210991,\n",
       "        0.0277902 , -0.00886005, -0.01040279, -0.01459656,  0.01513283,\n",
       "       -0.03789714, -0.00352111,  0.00871178,  0.01824656,  0.01310392,\n",
       "        0.04115353,  0.03667932,  0.01109257, -0.02284145, -0.01169943,\n",
       "       -0.01262885,  0.01584234, -0.00598863, -0.02558811,  0.01425833,\n",
       "        0.03576908,  0.01692779, -0.00481525,  0.02181703,  0.01619314,\n",
       "        0.0365669 ,  0.03441244,  0.00894968,  0.02381778, -0.0007432 ,\n",
       "        0.00543478,  0.00273582,  0.03531898, -0.00785589,  0.00577765,\n",
       "        0.01400461, -0.0153745 ,  0.02776775,  0.00948268,  0.02187466,\n",
       "        0.03439125,  0.00317473, -0.01484832,  0.01629927,  0.04409187,\n",
       "        0.04387648, -0.02522413,  0.01933885,  0.00320626,  0.00670322,\n",
       "        0.02693607,  0.01751013, -0.01131785, -0.01445789,  0.010214  ,\n",
       "        0.01269425,  0.02021958, -0.00038867,  0.01651778,  0.00446663,\n",
       "       -0.01549595,  0.04702635, -0.00588277,  0.02618733,  0.00823124,\n",
       "        0.00386079, -0.003437  , -0.01549535, -0.02293472,  0.01177008,\n",
       "        0.03101415, -0.00127345,  0.00387525, -0.01650949,  0.02165829],\n",
       "      dtype=float32)"
      ]
     },
     "execution_count": 35,
     "metadata": {},
     "output_type": "execute_result"
    }
   ],
   "source": [
    "Toy_story_vector"
   ]
  },
  {
   "cell_type": "code",
   "execution_count": 36,
   "metadata": {},
   "outputs": [
    {
     "data": {
      "text/plain": [
       "0.4292755"
      ]
     },
     "execution_count": 36,
     "metadata": {},
     "output_type": "execute_result"
    }
   ],
   "source": [
    "# mee 와 Toy_story 내적하는 코드\n",
    "np.dot(mee_vector,Toy_story_vector)"
   ]
  },
  {
   "cell_type": "markdown",
   "metadata": {},
   "source": [
    "#### 그 외 영화 하나 훈련 - Toy Story (1995)\t"
   ]
  },
  {
   "cell_type": "code",
   "execution_count": 45,
   "metadata": {},
   "outputs": [
    {
     "name": "stdout",
     "output_type": "stream",
     "text": [
      "모델을 통해 구할 벡터 구성 완료2\n"
     ]
    }
   ],
   "source": [
    "Other_movie = movie_to_idx['Sudden Death (1995)']\n",
    "Other_movie_vector = als_model.item_factors[Other_movie]\n",
    "\n",
    "print('모델을 통해 구할 벡터 구성 완료2')"
   ]
  },
  {
   "cell_type": "code",
   "execution_count": 46,
   "metadata": {},
   "outputs": [
    {
     "data": {
      "text/plain": [
       "0.0034316303"
      ]
     },
     "execution_count": 46,
     "metadata": {},
     "output_type": "execute_result"
    }
   ],
   "source": [
    "# mee 와 Other_movie 내적하는 코드\n",
    "np.dot(mee_vector,Other_movie_vector)"
   ]
  },
  {
   "cell_type": "markdown",
   "metadata": {},
   "source": [
    "#### 내가 좋아하는 영화와 비슷한 영화를 추천받아 봅시다.\n",
    "- AlternatingLeastSquares 클래스에 구현되어 있는 similar_items 메서드 이용"
   ]
  },
  {
   "cell_type": "code",
   "execution_count": 66,
   "metadata": {},
   "outputs": [],
   "source": [
    "# favorite_movie = 'Toy Story (1995)'\n",
    "# movie_id = movie_to_idx[favorite_movie]\n",
    "# similar_movie = als_model.similar_items(movie_id, N=15)   #N=15 의미?\n",
    "# similar_movie"
   ]
  },
  {
   "cell_type": "code",
   "execution_count": 65,
   "metadata": {},
   "outputs": [],
   "source": [
    "# # (movie의 id, 유사도) Tuple 로 반환하고 있습니다. \n",
    "# # movie의 id를 다시 movie의 이름으로 매핑 시켜 주겠습니다.\n",
    "\n",
    "# #movie_to_idx 를 뒤집어, index로부터 movie 이름을 얻는 dict를 생성합니다. \n",
    "# idx_to_movie = {v:k for k,v in movie_to_idx.items()}\n",
    "# [idx_to_artist[i[0]] for i in similar_movie]"
   ]
  },
  {
   "cell_type": "code",
   "execution_count": 55,
   "metadata": {},
   "outputs": [],
   "source": [
    "# 위의 코드를 이용하여 유사한 영화 추천해주는 함수 만들기\n",
    "def get_similar_movie(movie_name: str):\n",
    "    movie_id = movie_to_idx[movie_name]\n",
    "    similar_movie = als_model.similar_items(movie_id)\n",
    "    similar_movie = [idx_to_movie[i[0]] for i in similar_movie]\n",
    "    return similar_movie\n"
   ]
  },
  {
   "cell_type": "code",
   "execution_count": 56,
   "metadata": {},
   "outputs": [
    {
     "data": {
      "text/plain": [
       "['Aladdin (1992)',\n",
       " 'Beauty and the Beast (1991)',\n",
       " 'Lion King, The (1994)',\n",
       " 'Little Mermaid, The (1989)',\n",
       " 'Hunchback of Notre Dame, The (1996)',\n",
       " 'Mulan (1998)',\n",
       " 'Hercules (1997)',\n",
       " 'Toy Story (1995)',\n",
       " 'Tarzan (1999)',\n",
       " 'Anastasia (1997)']"
      ]
     },
     "execution_count": 56,
     "metadata": {},
     "output_type": "execute_result"
    }
   ],
   "source": [
    "get_similar_movie('Aladdin (1992)')"
   ]
  },
  {
   "cell_type": "markdown",
   "metadata": {},
   "source": [
    "#### 내가 가장 좋아할 만한 영화들을 추천받아 봅시다."
   ]
  },
  {
   "cell_type": "code",
   "execution_count": 59,
   "metadata": {},
   "outputs": [
    {
     "data": {
      "text/plain": [
       "[(50, 0.40874344),\n",
       " (322, 0.30587175),\n",
       " (4, 0.23013586),\n",
       " (458, 0.22399762),\n",
       " (545, 0.22099152),\n",
       " (476, 0.19817272),\n",
       " (33, 0.19381317),\n",
       " (1130, 0.18751329),\n",
       " (60, 0.1862943),\n",
       " (29, 0.1753729),\n",
       " (330, 0.16735452),\n",
       " (480, 0.15710624),\n",
       " (596, 0.14461833),\n",
       " (10, 0.14037628),\n",
       " (478, 0.13824394),\n",
       " (245, 0.13664372),\n",
       " (474, 0.13623384),\n",
       " (678, 0.1337342),\n",
       " (32, 0.13032205),\n",
       " (173, 0.12926477)]"
      ]
     },
     "execution_count": 59,
     "metadata": {},
     "output_type": "execute_result"
    }
   ],
   "source": [
    "user = user_to_idx['mee']\n",
    "# recommend에서는 user*item CSR Matrix를 받습니다.\n",
    "model_recommended = als_model.recommend(user, csr_ratings, N=20, filter_already_liked_items=True)\n",
    "model_recommended"
   ]
  },
  {
   "cell_type": "code",
   "execution_count": 61,
   "metadata": {},
   "outputs": [
    {
     "data": {
      "text/plain": [
       "['Toy Story 2 (1999)',\n",
       " 'Babe (1995)',\n",
       " \"Bug's Life, A (1998)\",\n",
       " 'Mask, The (1994)',\n",
       " 'Santa Clause, The (1994)',\n",
       " 'Wrong Trousers, The (1993)',\n",
       " 'Aladdin (1992)',\n",
       " 'Indian in the Cupboard, The (1995)',\n",
       " 'Star Wars: Episode I - The Phantom Menace (1999)',\n",
       " 'Close Shave, A (1995)',\n",
       " 'Lion King, The (1994)',\n",
       " 'Grand Day Out, A (1992)',\n",
       " 'Hook (1991)',\n",
       " 'Beauty and the Beast (1991)',\n",
       " \"Wayne's World (1992)\",\n",
       " 'Player, The (1992)',\n",
       " 'Chicken Run (2000)',\n",
       " 'Willy Wonka and the Chocolate Factory (1971)',\n",
       " 'Hercules (1997)',\n",
       " 'Dragonheart (1996)']"
      ]
     },
     "execution_count": 61,
     "metadata": {},
     "output_type": "execute_result"
    }
   ],
   "source": [
    "[idx_to_movie[i[0]] for i in model_recommended]"
   ]
  },
  {
   "cell_type": "code",
   "execution_count": 68,
   "metadata": {},
   "outputs": [
    {
     "data": {
      "text/plain": [
       "[('Toy Story (1995)', 0.12662663989941958),\n",
       " ('Jumanji (1995)', 0.013481916484545924),\n",
       " ('One Little Indian (1973)', 0.0015081169312384617),\n",
       " (\"'One Flew Over the Cuckoo's Nest (1975)\", 0.00043071510990253957),\n",
       " ('To Die For (1995)', -0.004015026407722514)]"
      ]
     },
     "execution_count": 68,
     "metadata": {},
     "output_type": "execute_result"
    }
   ],
   "source": [
    "# 왜 추천해줬을까? 기여도 분석 - explain 메소드 사용\n",
    "Beauty_beast = movie_to_idx['Beauty and the Beast (1991)']\n",
    "explain = als_model.explain(user, csr_ratings, itemid=Beauty_beast)\n",
    "\n",
    "[(idx_to_movie[i[0]], i[1]) for i in explain[1]]"
   ]
  },
  {
   "cell_type": "markdown",
   "metadata": {},
   "source": [
    "---\n",
    "## 루브릭 평가 요구사항  \n",
    "  \n",
    "### 1) CSR matrix가 사용자와 아이템 개수를 바탕으로 정확한 사이즈로 만들어졌다.\n",
    "-  영화 갯수 : 3628 , 사용자 수 : 6039 에 선호하는 데이터를 더 추가하여 CSR matrix를 통해 사용자수는 6040으로 늘어난 것을 볼 수 있다.\n",
    "  \n",
    "### 2) MF 모델이 정상적으로 훈련되어 사용자와 아이템 벡터 내적수치가 의미있게 형성되었다.\n",
    "-  MF 모델 훈련을 통해 사용자 벡터와 비교할 벡터 내적값으로 유사도를 확인하였다.  \n",
    "\n",
    "### 3)   비슷한 영화 찾기와 유저에게 추천하기의 과정에서 MF모델이 예측한 유저 선호도 및 아이템간 유사도, 기여도가 의미있게 측정되었다.\n",
    "-  similar_items 메서드, recommend 메서드, explain 메소드를 이용하여 영화 추천과 기여도를 확인하였다.\n",
    "---"
   ]
  },
  {
   "cell_type": "markdown",
   "metadata": {},
   "source": [
    "# 회고  \n",
    "---- \n",
    "- 1) ratings와 movies 병합 과정이 없으니까 아래 코드들에서 movies에 title을 찾으려 할때 오류가 났다. \n",
    "    - --> 두가지에서 가져오지 않고, 하나로 병합 후 ratings_add에서 title을 찾으니 해결!  \n",
    "---\n",
    "- 2) 내가 선호하는 영화 5가지를 추가할 때, 새로운 영화를 입력하는 줄 알았다. 이때 movie_id가 없어서 계속 오류 발생 -> user_id 인덱싱/정수화가 안된다. (무슨 연관인지는 모르겠음)\n",
    "    - --> 데이터셋 내에서 선호하는 영화 5가지를 넣어줬다. -> 이때 각각의 movie_id 찾고 싶었다.\n",
    "        - --> 수동으로 영화의 Id를 찾아줬으나, 자동으로 찾아주는 함수를 만들고 싶었다. 이후 공부해볼 계획이다!  \n",
    "\n",
    "- 3)  인덱스 차원 오류 나타나서 빼줌 - shape= (num_user, num_movie)  \n",
    "----  \n",
    "오류가 나고 수정을 하면 이전 실행 값을 저장하고 있어서 계속 restart를 해야했다. 코드양이 적어서 다행이였다.  \n",
    "다른 영화로 실행했을 때 두 벡터를 내적한 값이 너무 작거나 천차만별이였으며, 가끔은 음수로도 나타났다. 데이터양이 적어서 그런지 훈련을 잘못 시킨것 인지 좀 더 알아봐야겠다.   \n",
    "이전 프로젝트보다 더 한줄 한줄 이해하려고 노력했고, 변수명도 바꾸면서 필요한 부분은 더 추가하여 만들었다. 그래도 완벽히 숙지한 것도 아니고 궁금한 부분들도 많지만 스스로에게 조금은 뿌듯한 프로젝트였다 :)"
   ]
  },
  {
   "cell_type": "code",
   "execution_count": null,
   "metadata": {},
   "outputs": [],
   "source": []
  }
 ],
 "metadata": {
  "kernelspec": {
   "display_name": "aiffel",
   "language": "python",
   "name": "aiffel"
  },
  "language_info": {
   "codemirror_mode": {
    "name": "ipython",
    "version": 3
   },
   "file_extension": ".py",
   "mimetype": "text/x-python",
   "name": "python",
   "nbconvert_exporter": "python",
   "pygments_lexer": "ipython3",
   "version": "3.7.9"
  }
 },
 "nbformat": 4,
 "nbformat_minor": 4
}
